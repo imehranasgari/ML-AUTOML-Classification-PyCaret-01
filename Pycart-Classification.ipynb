{
 "cells": [
  {
   "cell_type": "code",
   "execution_count": 1,
   "id": "d4797bce-2059-43a4-ac6f-333b7ab42d74",
   "metadata": {},
   "outputs": [],
   "source": [
    "import pandas as pd\n",
    "from pycaret.classification import * "
   ]
  },
  {
   "cell_type": "code",
   "execution_count": 2,
   "id": "26e3201c-466b-499b-9d0b-ac438c41d95f",
   "metadata": {},
   "outputs": [
    {
     "data": {
      "text/html": [
       "<div>\n",
       "<style scoped>\n",
       "    .dataframe tbody tr th:only-of-type {\n",
       "        vertical-align: middle;\n",
       "    }\n",
       "\n",
       "    .dataframe tbody tr th {\n",
       "        vertical-align: top;\n",
       "    }\n",
       "\n",
       "    .dataframe thead th {\n",
       "        text-align: right;\n",
       "    }\n",
       "</style>\n",
       "<table border=\"1\" class=\"dataframe\">\n",
       "  <thead>\n",
       "    <tr style=\"text-align: right;\">\n",
       "      <th></th>\n",
       "      <th>Id</th>\n",
       "      <th>Purchase</th>\n",
       "      <th>WeekofPurchase</th>\n",
       "      <th>StoreID</th>\n",
       "      <th>PriceCH</th>\n",
       "      <th>PriceMM</th>\n",
       "      <th>DiscCH</th>\n",
       "      <th>DiscMM</th>\n",
       "      <th>SpecialCH</th>\n",
       "      <th>SpecialMM</th>\n",
       "      <th>LoyalCH</th>\n",
       "      <th>SalePriceMM</th>\n",
       "      <th>SalePriceCH</th>\n",
       "      <th>PriceDiff</th>\n",
       "      <th>Store7</th>\n",
       "      <th>PctDiscMM</th>\n",
       "      <th>PctDiscCH</th>\n",
       "      <th>ListPriceDiff</th>\n",
       "      <th>STORE</th>\n",
       "    </tr>\n",
       "  </thead>\n",
       "  <tbody>\n",
       "    <tr>\n",
       "      <th>0</th>\n",
       "      <td>1</td>\n",
       "      <td>CH</td>\n",
       "      <td>237</td>\n",
       "      <td>1</td>\n",
       "      <td>1.75</td>\n",
       "      <td>1.99</td>\n",
       "      <td>0.00</td>\n",
       "      <td>0.0</td>\n",
       "      <td>0</td>\n",
       "      <td>0</td>\n",
       "      <td>0.500000</td>\n",
       "      <td>1.99</td>\n",
       "      <td>1.75</td>\n",
       "      <td>0.24</td>\n",
       "      <td>No</td>\n",
       "      <td>0.000000</td>\n",
       "      <td>0.000000</td>\n",
       "      <td>0.24</td>\n",
       "      <td>1</td>\n",
       "    </tr>\n",
       "    <tr>\n",
       "      <th>1</th>\n",
       "      <td>2</td>\n",
       "      <td>CH</td>\n",
       "      <td>239</td>\n",
       "      <td>1</td>\n",
       "      <td>1.75</td>\n",
       "      <td>1.99</td>\n",
       "      <td>0.00</td>\n",
       "      <td>0.3</td>\n",
       "      <td>0</td>\n",
       "      <td>1</td>\n",
       "      <td>0.600000</td>\n",
       "      <td>1.69</td>\n",
       "      <td>1.75</td>\n",
       "      <td>-0.06</td>\n",
       "      <td>No</td>\n",
       "      <td>0.150754</td>\n",
       "      <td>0.000000</td>\n",
       "      <td>0.24</td>\n",
       "      <td>1</td>\n",
       "    </tr>\n",
       "    <tr>\n",
       "      <th>2</th>\n",
       "      <td>3</td>\n",
       "      <td>CH</td>\n",
       "      <td>245</td>\n",
       "      <td>1</td>\n",
       "      <td>1.86</td>\n",
       "      <td>2.09</td>\n",
       "      <td>0.17</td>\n",
       "      <td>0.0</td>\n",
       "      <td>0</td>\n",
       "      <td>0</td>\n",
       "      <td>0.680000</td>\n",
       "      <td>2.09</td>\n",
       "      <td>1.69</td>\n",
       "      <td>0.40</td>\n",
       "      <td>No</td>\n",
       "      <td>0.000000</td>\n",
       "      <td>0.091398</td>\n",
       "      <td>0.23</td>\n",
       "      <td>1</td>\n",
       "    </tr>\n",
       "    <tr>\n",
       "      <th>3</th>\n",
       "      <td>4</td>\n",
       "      <td>MM</td>\n",
       "      <td>227</td>\n",
       "      <td>1</td>\n",
       "      <td>1.69</td>\n",
       "      <td>1.69</td>\n",
       "      <td>0.00</td>\n",
       "      <td>0.0</td>\n",
       "      <td>0</td>\n",
       "      <td>0</td>\n",
       "      <td>0.400000</td>\n",
       "      <td>1.69</td>\n",
       "      <td>1.69</td>\n",
       "      <td>0.00</td>\n",
       "      <td>No</td>\n",
       "      <td>0.000000</td>\n",
       "      <td>0.000000</td>\n",
       "      <td>0.00</td>\n",
       "      <td>1</td>\n",
       "    </tr>\n",
       "    <tr>\n",
       "      <th>4</th>\n",
       "      <td>5</td>\n",
       "      <td>CH</td>\n",
       "      <td>228</td>\n",
       "      <td>7</td>\n",
       "      <td>1.69</td>\n",
       "      <td>1.69</td>\n",
       "      <td>0.00</td>\n",
       "      <td>0.0</td>\n",
       "      <td>0</td>\n",
       "      <td>0</td>\n",
       "      <td>0.956535</td>\n",
       "      <td>1.69</td>\n",
       "      <td>1.69</td>\n",
       "      <td>0.00</td>\n",
       "      <td>Yes</td>\n",
       "      <td>0.000000</td>\n",
       "      <td>0.000000</td>\n",
       "      <td>0.00</td>\n",
       "      <td>0</td>\n",
       "    </tr>\n",
       "  </tbody>\n",
       "</table>\n",
       "</div>"
      ],
      "text/plain": [
       "   Id Purchase  WeekofPurchase  StoreID  PriceCH  PriceMM  DiscCH  DiscMM  \\\n",
       "0   1       CH             237        1     1.75     1.99    0.00     0.0   \n",
       "1   2       CH             239        1     1.75     1.99    0.00     0.3   \n",
       "2   3       CH             245        1     1.86     2.09    0.17     0.0   \n",
       "3   4       MM             227        1     1.69     1.69    0.00     0.0   \n",
       "4   5       CH             228        7     1.69     1.69    0.00     0.0   \n",
       "\n",
       "   SpecialCH  SpecialMM   LoyalCH  SalePriceMM  SalePriceCH  PriceDiff Store7  \\\n",
       "0          0          0  0.500000         1.99         1.75       0.24     No   \n",
       "1          0          1  0.600000         1.69         1.75      -0.06     No   \n",
       "2          0          0  0.680000         2.09         1.69       0.40     No   \n",
       "3          0          0  0.400000         1.69         1.69       0.00     No   \n",
       "4          0          0  0.956535         1.69         1.69       0.00    Yes   \n",
       "\n",
       "   PctDiscMM  PctDiscCH  ListPriceDiff  STORE  \n",
       "0   0.000000   0.000000           0.24      1  \n",
       "1   0.150754   0.000000           0.24      1  \n",
       "2   0.000000   0.091398           0.23      1  \n",
       "3   0.000000   0.000000           0.00      1  \n",
       "4   0.000000   0.000000           0.00      0  "
      ]
     },
     "metadata": {},
     "output_type": "display_data"
    }
   ],
   "source": [
    "from pycaret.datasets import get_data\n",
    "juice=get_data('juice')"
   ]
  },
  {
   "cell_type": "code",
   "execution_count": 3,
   "id": "e21a237e-1cdf-4283-b507-f7d8b6bebe48",
   "metadata": {},
   "outputs": [
    {
     "data": {
      "text/html": [
       "<div>\n",
       "<style scoped>\n",
       "    .dataframe tbody tr th:only-of-type {\n",
       "        vertical-align: middle;\n",
       "    }\n",
       "\n",
       "    .dataframe tbody tr th {\n",
       "        vertical-align: top;\n",
       "    }\n",
       "\n",
       "    .dataframe thead th {\n",
       "        text-align: right;\n",
       "    }\n",
       "</style>\n",
       "<table border=\"1\" class=\"dataframe\">\n",
       "  <thead>\n",
       "    <tr style=\"text-align: right;\">\n",
       "      <th></th>\n",
       "      <th>Id</th>\n",
       "      <th>Purchase</th>\n",
       "      <th>WeekofPurchase</th>\n",
       "      <th>StoreID</th>\n",
       "      <th>PriceCH</th>\n",
       "      <th>PriceMM</th>\n",
       "      <th>DiscCH</th>\n",
       "      <th>DiscMM</th>\n",
       "      <th>SpecialCH</th>\n",
       "      <th>SpecialMM</th>\n",
       "      <th>LoyalCH</th>\n",
       "      <th>SalePriceMM</th>\n",
       "      <th>SalePriceCH</th>\n",
       "      <th>PriceDiff</th>\n",
       "      <th>Store7</th>\n",
       "      <th>PctDiscMM</th>\n",
       "      <th>PctDiscCH</th>\n",
       "      <th>ListPriceDiff</th>\n",
       "      <th>STORE</th>\n",
       "    </tr>\n",
       "  </thead>\n",
       "  <tbody>\n",
       "    <tr>\n",
       "      <th>0</th>\n",
       "      <td>1</td>\n",
       "      <td>CH</td>\n",
       "      <td>237</td>\n",
       "      <td>1</td>\n",
       "      <td>1.75</td>\n",
       "      <td>1.99</td>\n",
       "      <td>0.00</td>\n",
       "      <td>0.0</td>\n",
       "      <td>0</td>\n",
       "      <td>0</td>\n",
       "      <td>0.500000</td>\n",
       "      <td>1.99</td>\n",
       "      <td>1.75</td>\n",
       "      <td>0.24</td>\n",
       "      <td>No</td>\n",
       "      <td>0.000000</td>\n",
       "      <td>0.000000</td>\n",
       "      <td>0.24</td>\n",
       "      <td>1</td>\n",
       "    </tr>\n",
       "    <tr>\n",
       "      <th>1</th>\n",
       "      <td>2</td>\n",
       "      <td>CH</td>\n",
       "      <td>239</td>\n",
       "      <td>1</td>\n",
       "      <td>1.75</td>\n",
       "      <td>1.99</td>\n",
       "      <td>0.00</td>\n",
       "      <td>0.3</td>\n",
       "      <td>0</td>\n",
       "      <td>1</td>\n",
       "      <td>0.600000</td>\n",
       "      <td>1.69</td>\n",
       "      <td>1.75</td>\n",
       "      <td>-0.06</td>\n",
       "      <td>No</td>\n",
       "      <td>0.150754</td>\n",
       "      <td>0.000000</td>\n",
       "      <td>0.24</td>\n",
       "      <td>1</td>\n",
       "    </tr>\n",
       "    <tr>\n",
       "      <th>2</th>\n",
       "      <td>3</td>\n",
       "      <td>CH</td>\n",
       "      <td>245</td>\n",
       "      <td>1</td>\n",
       "      <td>1.86</td>\n",
       "      <td>2.09</td>\n",
       "      <td>0.17</td>\n",
       "      <td>0.0</td>\n",
       "      <td>0</td>\n",
       "      <td>0</td>\n",
       "      <td>0.680000</td>\n",
       "      <td>2.09</td>\n",
       "      <td>1.69</td>\n",
       "      <td>0.40</td>\n",
       "      <td>No</td>\n",
       "      <td>0.000000</td>\n",
       "      <td>0.091398</td>\n",
       "      <td>0.23</td>\n",
       "      <td>1</td>\n",
       "    </tr>\n",
       "    <tr>\n",
       "      <th>3</th>\n",
       "      <td>4</td>\n",
       "      <td>MM</td>\n",
       "      <td>227</td>\n",
       "      <td>1</td>\n",
       "      <td>1.69</td>\n",
       "      <td>1.69</td>\n",
       "      <td>0.00</td>\n",
       "      <td>0.0</td>\n",
       "      <td>0</td>\n",
       "      <td>0</td>\n",
       "      <td>0.400000</td>\n",
       "      <td>1.69</td>\n",
       "      <td>1.69</td>\n",
       "      <td>0.00</td>\n",
       "      <td>No</td>\n",
       "      <td>0.000000</td>\n",
       "      <td>0.000000</td>\n",
       "      <td>0.00</td>\n",
       "      <td>1</td>\n",
       "    </tr>\n",
       "    <tr>\n",
       "      <th>4</th>\n",
       "      <td>5</td>\n",
       "      <td>CH</td>\n",
       "      <td>228</td>\n",
       "      <td>7</td>\n",
       "      <td>1.69</td>\n",
       "      <td>1.69</td>\n",
       "      <td>0.00</td>\n",
       "      <td>0.0</td>\n",
       "      <td>0</td>\n",
       "      <td>0</td>\n",
       "      <td>0.956535</td>\n",
       "      <td>1.69</td>\n",
       "      <td>1.69</td>\n",
       "      <td>0.00</td>\n",
       "      <td>Yes</td>\n",
       "      <td>0.000000</td>\n",
       "      <td>0.000000</td>\n",
       "      <td>0.00</td>\n",
       "      <td>0</td>\n",
       "    </tr>\n",
       "  </tbody>\n",
       "</table>\n",
       "</div>"
      ],
      "text/plain": [
       "   Id Purchase  WeekofPurchase  StoreID  PriceCH  PriceMM  DiscCH  DiscMM  \\\n",
       "0   1       CH             237        1     1.75     1.99    0.00     0.0   \n",
       "1   2       CH             239        1     1.75     1.99    0.00     0.3   \n",
       "2   3       CH             245        1     1.86     2.09    0.17     0.0   \n",
       "3   4       MM             227        1     1.69     1.69    0.00     0.0   \n",
       "4   5       CH             228        7     1.69     1.69    0.00     0.0   \n",
       "\n",
       "   SpecialCH  SpecialMM   LoyalCH  SalePriceMM  SalePriceCH  PriceDiff Store7  \\\n",
       "0          0          0  0.500000         1.99         1.75       0.24     No   \n",
       "1          0          1  0.600000         1.69         1.75      -0.06     No   \n",
       "2          0          0  0.680000         2.09         1.69       0.40     No   \n",
       "3          0          0  0.400000         1.69         1.69       0.00     No   \n",
       "4          0          0  0.956535         1.69         1.69       0.00    Yes   \n",
       "\n",
       "   PctDiscMM  PctDiscCH  ListPriceDiff  STORE  \n",
       "0   0.000000   0.000000           0.24      1  \n",
       "1   0.150754   0.000000           0.24      1  \n",
       "2   0.000000   0.091398           0.23      1  \n",
       "3   0.000000   0.000000           0.00      1  \n",
       "4   0.000000   0.000000           0.00      0  "
      ]
     },
     "metadata": {},
     "output_type": "display_data"
    },
    {
     "name": "stdout",
     "output_type": "stream",
     "text": [
      "Id                   int64\n",
      "WeekofPurchase       int64\n",
      "StoreID              int64\n",
      "PriceCH            float64\n",
      "PriceMM            float64\n",
      "DiscCH             float64\n",
      "DiscMM             float64\n",
      "SpecialCH            int64\n",
      "SpecialMM            int64\n",
      "LoyalCH            float64\n",
      "SalePriceMM        float64\n",
      "SalePriceCH        float64\n",
      "PriceDiff          float64\n",
      "Store7            category\n",
      "PctDiscMM          float64\n",
      "PctDiscCH          float64\n",
      "ListPriceDiff      float64\n",
      "STORE                int64\n",
      "dtype: object\n",
      "[LightGBM] [Info] Number of positive: 417, number of negative: 653\n",
      "[LightGBM] [Info] Auto-choosing row-wise multi-threading, the overhead of testing was 0.000287 seconds.\n",
      "You can set `force_row_wise=true` to remove the overhead.\n",
      "And if memory is not enough, you can set `force_col_wise=true`.\n",
      "[LightGBM] [Info] Total Bins 739\n",
      "[LightGBM] [Info] Number of data points in the train set: 1070, number of used features: 18\n",
      "[LightGBM] [Info] [binary:BoostFromScore]: pavg=0.389720 -> initscore=-0.448491\n",
      "[LightGBM] [Info] Start training from score -0.448491\n"
     ]
    }
   ],
   "source": [
    "import lightgbm as lgb\n",
    "import pandas as pd\n",
    "from sklearn.preprocessing import LabelEncoder\n",
    "\n",
    "# لود دیتاست\n",
    "from pycaret.datasets import get_data\n",
    "juice = get_data('juice')\n",
    "\n",
    "# تبدیل Purchase به عددی\n",
    "le = LabelEncoder()\n",
    "juice['Purchase'] = le.fit_transform(juice['Purchase'])\n",
    "\n",
    "# تبدیل Store7 به category یا عددی\n",
    "juice['Store7'] = juice['Store7'].astype('category')\n",
    "\n",
    "# جدا کردن ویژگی‌ها و هدف\n",
    "X_train = juice.drop('Purchase', axis=1)\n",
    "y_train = juice['Purchase']\n",
    "\n",
    "# چک کردن نوع داده‌ها برای اطمینان\n",
    "print(X_train.dtypes)\n",
    "\n",
    "# ایجاد دیتاست LightGBM\n",
    "train_data = lgb.Dataset(X_train, label=y_train, categorical_feature=['Store7'])\n",
    "\n",
    "# تنظیمات مدل\n",
    "params = {\n",
    "    'objective': 'binary',\n",
    "    'metric': 'auc',\n",
    "    'boosting_type': 'gbdt',\n",
    "    'num_leaves': 31,\n",
    "    'learning_rate': 0.05,\n",
    "    'min_data_in_leaf': 10,\n",
    "    'min_sum_hessian_in_leaf': 0.001,\n",
    "    'max_depth': -1\n",
    "}\n",
    "\n",
    "# آموزش مدل\n",
    "model = lgb.train(params, train_data, num_boost_round=100)"
   ]
  },
  {
   "cell_type": "code",
   "execution_count": 4,
   "id": "28efacb9-d8d7-4221-a2e8-15de5ca9d5fb",
   "metadata": {},
   "outputs": [
    {
     "data": {
      "text/html": [
       "<style type=\"text/css\">\n",
       "#T_4bdb8_row9_col1 {\n",
       "  background-color: lightgreen;\n",
       "}\n",
       "</style>\n",
       "<table id=\"T_4bdb8\">\n",
       "  <thead>\n",
       "    <tr>\n",
       "      <th class=\"blank level0\" >&nbsp;</th>\n",
       "      <th id=\"T_4bdb8_level0_col0\" class=\"col_heading level0 col0\" >Description</th>\n",
       "      <th id=\"T_4bdb8_level0_col1\" class=\"col_heading level0 col1\" >Value</th>\n",
       "    </tr>\n",
       "  </thead>\n",
       "  <tbody>\n",
       "    <tr>\n",
       "      <th id=\"T_4bdb8_level0_row0\" class=\"row_heading level0 row0\" >0</th>\n",
       "      <td id=\"T_4bdb8_row0_col0\" class=\"data row0 col0\" >Session id</td>\n",
       "      <td id=\"T_4bdb8_row0_col1\" class=\"data row0 col1\" >1163</td>\n",
       "    </tr>\n",
       "    <tr>\n",
       "      <th id=\"T_4bdb8_level0_row1\" class=\"row_heading level0 row1\" >1</th>\n",
       "      <td id=\"T_4bdb8_row1_col0\" class=\"data row1 col0\" >Target</td>\n",
       "      <td id=\"T_4bdb8_row1_col1\" class=\"data row1 col1\" >Purchase</td>\n",
       "    </tr>\n",
       "    <tr>\n",
       "      <th id=\"T_4bdb8_level0_row2\" class=\"row_heading level0 row2\" >2</th>\n",
       "      <td id=\"T_4bdb8_row2_col0\" class=\"data row2 col0\" >Target type</td>\n",
       "      <td id=\"T_4bdb8_row2_col1\" class=\"data row2 col1\" >Binary</td>\n",
       "    </tr>\n",
       "    <tr>\n",
       "      <th id=\"T_4bdb8_level0_row3\" class=\"row_heading level0 row3\" >3</th>\n",
       "      <td id=\"T_4bdb8_row3_col0\" class=\"data row3 col0\" >Original data shape</td>\n",
       "      <td id=\"T_4bdb8_row3_col1\" class=\"data row3 col1\" >(1070, 19)</td>\n",
       "    </tr>\n",
       "    <tr>\n",
       "      <th id=\"T_4bdb8_level0_row4\" class=\"row_heading level0 row4\" >4</th>\n",
       "      <td id=\"T_4bdb8_row4_col0\" class=\"data row4 col0\" >Transformed data shape</td>\n",
       "      <td id=\"T_4bdb8_row4_col1\" class=\"data row4 col1\" >(1070, 19)</td>\n",
       "    </tr>\n",
       "    <tr>\n",
       "      <th id=\"T_4bdb8_level0_row5\" class=\"row_heading level0 row5\" >5</th>\n",
       "      <td id=\"T_4bdb8_row5_col0\" class=\"data row5 col0\" >Transformed train set shape</td>\n",
       "      <td id=\"T_4bdb8_row5_col1\" class=\"data row5 col1\" >(749, 19)</td>\n",
       "    </tr>\n",
       "    <tr>\n",
       "      <th id=\"T_4bdb8_level0_row6\" class=\"row_heading level0 row6\" >6</th>\n",
       "      <td id=\"T_4bdb8_row6_col0\" class=\"data row6 col0\" >Transformed test set shape</td>\n",
       "      <td id=\"T_4bdb8_row6_col1\" class=\"data row6 col1\" >(321, 19)</td>\n",
       "    </tr>\n",
       "    <tr>\n",
       "      <th id=\"T_4bdb8_level0_row7\" class=\"row_heading level0 row7\" >7</th>\n",
       "      <td id=\"T_4bdb8_row7_col0\" class=\"data row7 col0\" >Numeric features</td>\n",
       "      <td id=\"T_4bdb8_row7_col1\" class=\"data row7 col1\" >17</td>\n",
       "    </tr>\n",
       "    <tr>\n",
       "      <th id=\"T_4bdb8_level0_row8\" class=\"row_heading level0 row8\" >8</th>\n",
       "      <td id=\"T_4bdb8_row8_col0\" class=\"data row8 col0\" >Categorical features</td>\n",
       "      <td id=\"T_4bdb8_row8_col1\" class=\"data row8 col1\" >1</td>\n",
       "    </tr>\n",
       "    <tr>\n",
       "      <th id=\"T_4bdb8_level0_row9\" class=\"row_heading level0 row9\" >9</th>\n",
       "      <td id=\"T_4bdb8_row9_col0\" class=\"data row9 col0\" >Preprocess</td>\n",
       "      <td id=\"T_4bdb8_row9_col1\" class=\"data row9 col1\" >True</td>\n",
       "    </tr>\n",
       "    <tr>\n",
       "      <th id=\"T_4bdb8_level0_row10\" class=\"row_heading level0 row10\" >10</th>\n",
       "      <td id=\"T_4bdb8_row10_col0\" class=\"data row10 col0\" >Imputation type</td>\n",
       "      <td id=\"T_4bdb8_row10_col1\" class=\"data row10 col1\" >simple</td>\n",
       "    </tr>\n",
       "    <tr>\n",
       "      <th id=\"T_4bdb8_level0_row11\" class=\"row_heading level0 row11\" >11</th>\n",
       "      <td id=\"T_4bdb8_row11_col0\" class=\"data row11 col0\" >Numeric imputation</td>\n",
       "      <td id=\"T_4bdb8_row11_col1\" class=\"data row11 col1\" >mean</td>\n",
       "    </tr>\n",
       "    <tr>\n",
       "      <th id=\"T_4bdb8_level0_row12\" class=\"row_heading level0 row12\" >12</th>\n",
       "      <td id=\"T_4bdb8_row12_col0\" class=\"data row12 col0\" >Categorical imputation</td>\n",
       "      <td id=\"T_4bdb8_row12_col1\" class=\"data row12 col1\" >mode</td>\n",
       "    </tr>\n",
       "    <tr>\n",
       "      <th id=\"T_4bdb8_level0_row13\" class=\"row_heading level0 row13\" >13</th>\n",
       "      <td id=\"T_4bdb8_row13_col0\" class=\"data row13 col0\" >Maximum one-hot encoding</td>\n",
       "      <td id=\"T_4bdb8_row13_col1\" class=\"data row13 col1\" >25</td>\n",
       "    </tr>\n",
       "    <tr>\n",
       "      <th id=\"T_4bdb8_level0_row14\" class=\"row_heading level0 row14\" >14</th>\n",
       "      <td id=\"T_4bdb8_row14_col0\" class=\"data row14 col0\" >Encoding method</td>\n",
       "      <td id=\"T_4bdb8_row14_col1\" class=\"data row14 col1\" >None</td>\n",
       "    </tr>\n",
       "    <tr>\n",
       "      <th id=\"T_4bdb8_level0_row15\" class=\"row_heading level0 row15\" >15</th>\n",
       "      <td id=\"T_4bdb8_row15_col0\" class=\"data row15 col0\" >Fold Generator</td>\n",
       "      <td id=\"T_4bdb8_row15_col1\" class=\"data row15 col1\" >StratifiedKFold</td>\n",
       "    </tr>\n",
       "    <tr>\n",
       "      <th id=\"T_4bdb8_level0_row16\" class=\"row_heading level0 row16\" >16</th>\n",
       "      <td id=\"T_4bdb8_row16_col0\" class=\"data row16 col0\" >Fold Number</td>\n",
       "      <td id=\"T_4bdb8_row16_col1\" class=\"data row16 col1\" >10</td>\n",
       "    </tr>\n",
       "    <tr>\n",
       "      <th id=\"T_4bdb8_level0_row17\" class=\"row_heading level0 row17\" >17</th>\n",
       "      <td id=\"T_4bdb8_row17_col0\" class=\"data row17 col0\" >CPU Jobs</td>\n",
       "      <td id=\"T_4bdb8_row17_col1\" class=\"data row17 col1\" >-1</td>\n",
       "    </tr>\n",
       "    <tr>\n",
       "      <th id=\"T_4bdb8_level0_row18\" class=\"row_heading level0 row18\" >18</th>\n",
       "      <td id=\"T_4bdb8_row18_col0\" class=\"data row18 col0\" >Use GPU</td>\n",
       "      <td id=\"T_4bdb8_row18_col1\" class=\"data row18 col1\" >False</td>\n",
       "    </tr>\n",
       "    <tr>\n",
       "      <th id=\"T_4bdb8_level0_row19\" class=\"row_heading level0 row19\" >19</th>\n",
       "      <td id=\"T_4bdb8_row19_col0\" class=\"data row19 col0\" >Log Experiment</td>\n",
       "      <td id=\"T_4bdb8_row19_col1\" class=\"data row19 col1\" >False</td>\n",
       "    </tr>\n",
       "    <tr>\n",
       "      <th id=\"T_4bdb8_level0_row20\" class=\"row_heading level0 row20\" >20</th>\n",
       "      <td id=\"T_4bdb8_row20_col0\" class=\"data row20 col0\" >Experiment Name</td>\n",
       "      <td id=\"T_4bdb8_row20_col1\" class=\"data row20 col1\" >clf-default-name</td>\n",
       "    </tr>\n",
       "    <tr>\n",
       "      <th id=\"T_4bdb8_level0_row21\" class=\"row_heading level0 row21\" >21</th>\n",
       "      <td id=\"T_4bdb8_row21_col0\" class=\"data row21 col0\" >USI</td>\n",
       "      <td id=\"T_4bdb8_row21_col1\" class=\"data row21 col1\" >2ec8</td>\n",
       "    </tr>\n",
       "  </tbody>\n",
       "</table>\n"
      ],
      "text/plain": [
       "<pandas.io.formats.style.Styler at 0x1b3aad39340>"
      ]
     },
     "metadata": {},
     "output_type": "display_data"
    }
   ],
   "source": [
    "clf=setup(data=juice ,target='Purchase')"
   ]
  },
  {
   "cell_type": "code",
   "execution_count": 5,
   "id": "f89ba772-5bc5-4540-8504-30e8d7e7d7e2",
   "metadata": {},
   "outputs": [
    {
     "data": {
      "text/html": [],
      "text/plain": [
       "<IPython.core.display.HTML object>"
      ]
     },
     "metadata": {},
     "output_type": "display_data"
    },
    {
     "data": {
      "text/html": [
       "<style type=\"text/css\">\n",
       "#T_046ce th {\n",
       "  text-align: left;\n",
       "}\n",
       "#T_046ce_row0_col0, #T_046ce_row0_col3, #T_046ce_row0_col4, #T_046ce_row1_col0, #T_046ce_row1_col1, #T_046ce_row1_col2, #T_046ce_row1_col3, #T_046ce_row1_col5, #T_046ce_row1_col6, #T_046ce_row1_col7, #T_046ce_row2_col0, #T_046ce_row2_col1, #T_046ce_row2_col2, #T_046ce_row2_col3, #T_046ce_row2_col4, #T_046ce_row2_col5, #T_046ce_row2_col6, #T_046ce_row2_col7, #T_046ce_row3_col0, #T_046ce_row3_col1, #T_046ce_row3_col2, #T_046ce_row3_col3, #T_046ce_row3_col4, #T_046ce_row3_col5, #T_046ce_row3_col6, #T_046ce_row3_col7, #T_046ce_row4_col0, #T_046ce_row4_col1, #T_046ce_row4_col2, #T_046ce_row4_col3, #T_046ce_row4_col4, #T_046ce_row4_col5, #T_046ce_row4_col6, #T_046ce_row4_col7, #T_046ce_row5_col0, #T_046ce_row5_col1, #T_046ce_row5_col2, #T_046ce_row5_col3, #T_046ce_row5_col4, #T_046ce_row5_col5, #T_046ce_row5_col6, #T_046ce_row5_col7, #T_046ce_row6_col0, #T_046ce_row6_col1, #T_046ce_row6_col2, #T_046ce_row6_col3, #T_046ce_row6_col4, #T_046ce_row6_col5, #T_046ce_row6_col6, #T_046ce_row6_col7, #T_046ce_row7_col0, #T_046ce_row7_col1, #T_046ce_row7_col2, #T_046ce_row7_col3, #T_046ce_row7_col4, #T_046ce_row7_col5, #T_046ce_row7_col6, #T_046ce_row7_col7, #T_046ce_row8_col0, #T_046ce_row8_col1, #T_046ce_row8_col2, #T_046ce_row8_col3, #T_046ce_row8_col4, #T_046ce_row8_col5, #T_046ce_row8_col6, #T_046ce_row8_col7, #T_046ce_row9_col0, #T_046ce_row9_col1, #T_046ce_row9_col2, #T_046ce_row9_col3, #T_046ce_row9_col4, #T_046ce_row9_col5, #T_046ce_row9_col6, #T_046ce_row9_col7, #T_046ce_row10_col0, #T_046ce_row10_col1, #T_046ce_row10_col2, #T_046ce_row10_col3, #T_046ce_row10_col4, #T_046ce_row10_col5, #T_046ce_row10_col6, #T_046ce_row10_col7, #T_046ce_row11_col0, #T_046ce_row11_col1, #T_046ce_row11_col2, #T_046ce_row11_col3, #T_046ce_row11_col4, #T_046ce_row11_col5, #T_046ce_row11_col6, #T_046ce_row11_col7, #T_046ce_row12_col0, #T_046ce_row12_col1, #T_046ce_row12_col2, #T_046ce_row12_col4, #T_046ce_row12_col5, #T_046ce_row12_col6, #T_046ce_row12_col7, #T_046ce_row13_col0, #T_046ce_row13_col1, #T_046ce_row13_col2, #T_046ce_row13_col3, #T_046ce_row13_col4, #T_046ce_row13_col5, #T_046ce_row13_col6, #T_046ce_row13_col7, #T_046ce_row14_col0, #T_046ce_row14_col1, #T_046ce_row14_col2, #T_046ce_row14_col3, #T_046ce_row14_col4, #T_046ce_row14_col5, #T_046ce_row14_col6, #T_046ce_row14_col7, #T_046ce_row15_col0, #T_046ce_row15_col1, #T_046ce_row15_col2, #T_046ce_row15_col3, #T_046ce_row15_col4, #T_046ce_row15_col5, #T_046ce_row15_col6, #T_046ce_row15_col7 {\n",
       "  text-align: left;\n",
       "}\n",
       "#T_046ce_row0_col1, #T_046ce_row0_col2, #T_046ce_row0_col5, #T_046ce_row0_col6, #T_046ce_row0_col7, #T_046ce_row1_col4, #T_046ce_row12_col3 {\n",
       "  text-align: left;\n",
       "  background-color: yellow;\n",
       "}\n",
       "#T_046ce_row0_col8, #T_046ce_row1_col8, #T_046ce_row2_col8, #T_046ce_row3_col8, #T_046ce_row4_col8, #T_046ce_row5_col8, #T_046ce_row6_col8, #T_046ce_row7_col8, #T_046ce_row8_col8, #T_046ce_row10_col8, #T_046ce_row11_col8, #T_046ce_row12_col8, #T_046ce_row13_col8, #T_046ce_row14_col8, #T_046ce_row15_col8 {\n",
       "  text-align: left;\n",
       "  background-color: lightgrey;\n",
       "}\n",
       "#T_046ce_row9_col8 {\n",
       "  text-align: left;\n",
       "  background-color: yellow;\n",
       "  background-color: lightgrey;\n",
       "}\n",
       "</style>\n",
       "<table id=\"T_046ce\">\n",
       "  <thead>\n",
       "    <tr>\n",
       "      <th class=\"blank level0\" >&nbsp;</th>\n",
       "      <th id=\"T_046ce_level0_col0\" class=\"col_heading level0 col0\" >Model</th>\n",
       "      <th id=\"T_046ce_level0_col1\" class=\"col_heading level0 col1\" >Accuracy</th>\n",
       "      <th id=\"T_046ce_level0_col2\" class=\"col_heading level0 col2\" >AUC</th>\n",
       "      <th id=\"T_046ce_level0_col3\" class=\"col_heading level0 col3\" >Recall</th>\n",
       "      <th id=\"T_046ce_level0_col4\" class=\"col_heading level0 col4\" >Prec.</th>\n",
       "      <th id=\"T_046ce_level0_col5\" class=\"col_heading level0 col5\" >F1</th>\n",
       "      <th id=\"T_046ce_level0_col6\" class=\"col_heading level0 col6\" >Kappa</th>\n",
       "      <th id=\"T_046ce_level0_col7\" class=\"col_heading level0 col7\" >MCC</th>\n",
       "      <th id=\"T_046ce_level0_col8\" class=\"col_heading level0 col8\" >TT (Sec)</th>\n",
       "    </tr>\n",
       "  </thead>\n",
       "  <tbody>\n",
       "    <tr>\n",
       "      <th id=\"T_046ce_level0_row0\" class=\"row_heading level0 row0\" >ridge</th>\n",
       "      <td id=\"T_046ce_row0_col0\" class=\"data row0 col0\" >Ridge Classifier</td>\n",
       "      <td id=\"T_046ce_row0_col1\" class=\"data row0 col1\" >0.8411</td>\n",
       "      <td id=\"T_046ce_row0_col2\" class=\"data row0 col2\" >0.9054</td>\n",
       "      <td id=\"T_046ce_row0_col3\" class=\"data row0 col3\" >0.7914</td>\n",
       "      <td id=\"T_046ce_row0_col4\" class=\"data row0 col4\" >0.8049</td>\n",
       "      <td id=\"T_046ce_row0_col5\" class=\"data row0 col5\" >0.7945</td>\n",
       "      <td id=\"T_046ce_row0_col6\" class=\"data row0 col6\" >0.6655</td>\n",
       "      <td id=\"T_046ce_row0_col7\" class=\"data row0 col7\" >0.6692</td>\n",
       "      <td id=\"T_046ce_row0_col8\" class=\"data row0 col8\" >0.0090</td>\n",
       "    </tr>\n",
       "    <tr>\n",
       "      <th id=\"T_046ce_level0_row1\" class=\"row_heading level0 row1\" >lr</th>\n",
       "      <td id=\"T_046ce_row1_col0\" class=\"data row1 col0\" >Logistic Regression</td>\n",
       "      <td id=\"T_046ce_row1_col1\" class=\"data row1 col1\" >0.8371</td>\n",
       "      <td id=\"T_046ce_row1_col2\" class=\"data row1 col2\" >0.9052</td>\n",
       "      <td id=\"T_046ce_row1_col3\" class=\"data row1 col3\" >0.7743</td>\n",
       "      <td id=\"T_046ce_row1_col4\" class=\"data row1 col4\" >0.8087</td>\n",
       "      <td id=\"T_046ce_row1_col5\" class=\"data row1 col5\" >0.7871</td>\n",
       "      <td id=\"T_046ce_row1_col6\" class=\"data row1 col6\" >0.6560</td>\n",
       "      <td id=\"T_046ce_row1_col7\" class=\"data row1 col7\" >0.6601</td>\n",
       "      <td id=\"T_046ce_row1_col8\" class=\"data row1 col8\" >0.4430</td>\n",
       "    </tr>\n",
       "    <tr>\n",
       "      <th id=\"T_046ce_level0_row2\" class=\"row_heading level0 row2\" >gbc</th>\n",
       "      <td id=\"T_046ce_row2_col0\" class=\"data row2 col0\" >Gradient Boosting Classifier</td>\n",
       "      <td id=\"T_046ce_row2_col1\" class=\"data row2 col1\" >0.8371</td>\n",
       "      <td id=\"T_046ce_row2_col2\" class=\"data row2 col2\" >0.8998</td>\n",
       "      <td id=\"T_046ce_row2_col3\" class=\"data row2 col3\" >0.7878</td>\n",
       "      <td id=\"T_046ce_row2_col4\" class=\"data row2 col4\" >0.7961</td>\n",
       "      <td id=\"T_046ce_row2_col5\" class=\"data row2 col5\" >0.7896</td>\n",
       "      <td id=\"T_046ce_row2_col6\" class=\"data row2 col6\" >0.6571</td>\n",
       "      <td id=\"T_046ce_row2_col7\" class=\"data row2 col7\" >0.6596</td>\n",
       "      <td id=\"T_046ce_row2_col8\" class=\"data row2 col8\" >0.0260</td>\n",
       "    </tr>\n",
       "    <tr>\n",
       "      <th id=\"T_046ce_level0_row3\" class=\"row_heading level0 row3\" >lda</th>\n",
       "      <td id=\"T_046ce_row3_col0\" class=\"data row3 col0\" >Linear Discriminant Analysis</td>\n",
       "      <td id=\"T_046ce_row3_col1\" class=\"data row3 col1\" >0.8371</td>\n",
       "      <td id=\"T_046ce_row3_col2\" class=\"data row3 col2\" >0.9040</td>\n",
       "      <td id=\"T_046ce_row3_col3\" class=\"data row3 col3\" >0.7913</td>\n",
       "      <td id=\"T_046ce_row3_col4\" class=\"data row3 col4\" >0.7960</td>\n",
       "      <td id=\"T_046ce_row3_col5\" class=\"data row3 col5\" >0.7915</td>\n",
       "      <td id=\"T_046ce_row3_col6\" class=\"data row3 col6\" >0.6583</td>\n",
       "      <td id=\"T_046ce_row3_col7\" class=\"data row3 col7\" >0.6604</td>\n",
       "      <td id=\"T_046ce_row3_col8\" class=\"data row3 col8\" >0.0090</td>\n",
       "    </tr>\n",
       "    <tr>\n",
       "      <th id=\"T_046ce_level0_row4\" class=\"row_heading level0 row4\" >xgboost</th>\n",
       "      <td id=\"T_046ce_row4_col0\" class=\"data row4 col0\" >Extreme Gradient Boosting</td>\n",
       "      <td id=\"T_046ce_row4_col1\" class=\"data row4 col1\" >0.8224</td>\n",
       "      <td id=\"T_046ce_row4_col2\" class=\"data row4 col2\" >0.8791</td>\n",
       "      <td id=\"T_046ce_row4_col3\" class=\"data row4 col3\" >0.7603</td>\n",
       "      <td id=\"T_046ce_row4_col4\" class=\"data row4 col4\" >0.7857</td>\n",
       "      <td id=\"T_046ce_row4_col5\" class=\"data row4 col5\" >0.7695</td>\n",
       "      <td id=\"T_046ce_row4_col6\" class=\"data row4 col6\" >0.6255</td>\n",
       "      <td id=\"T_046ce_row4_col7\" class=\"data row4 col7\" >0.6293</td>\n",
       "      <td id=\"T_046ce_row4_col8\" class=\"data row4 col8\" >0.2220</td>\n",
       "    </tr>\n",
       "    <tr>\n",
       "      <th id=\"T_046ce_level0_row5\" class=\"row_heading level0 row5\" >lightgbm</th>\n",
       "      <td id=\"T_046ce_row5_col0\" class=\"data row5 col0\" >Light Gradient Boosting Machine</td>\n",
       "      <td id=\"T_046ce_row5_col1\" class=\"data row5 col1\" >0.8198</td>\n",
       "      <td id=\"T_046ce_row5_col2\" class=\"data row5 col2\" >0.8794</td>\n",
       "      <td id=\"T_046ce_row5_col3\" class=\"data row5 col3\" >0.7603</td>\n",
       "      <td id=\"T_046ce_row5_col4\" class=\"data row5 col4\" >0.7785</td>\n",
       "      <td id=\"T_046ce_row5_col5\" class=\"data row5 col5\" >0.7660</td>\n",
       "      <td id=\"T_046ce_row5_col6\" class=\"data row5 col6\" >0.6200</td>\n",
       "      <td id=\"T_046ce_row5_col7\" class=\"data row5 col7\" >0.6234</td>\n",
       "      <td id=\"T_046ce_row5_col8\" class=\"data row5 col8\" >0.1380</td>\n",
       "    </tr>\n",
       "    <tr>\n",
       "      <th id=\"T_046ce_level0_row6\" class=\"row_heading level0 row6\" >rf</th>\n",
       "      <td id=\"T_046ce_row6_col0\" class=\"data row6 col0\" >Random Forest Classifier</td>\n",
       "      <td id=\"T_046ce_row6_col1\" class=\"data row6 col1\" >0.8171</td>\n",
       "      <td id=\"T_046ce_row6_col2\" class=\"data row6 col2\" >0.8883</td>\n",
       "      <td id=\"T_046ce_row6_col3\" class=\"data row6 col3\" >0.7534</td>\n",
       "      <td id=\"T_046ce_row6_col4\" class=\"data row6 col4\" >0.7771</td>\n",
       "      <td id=\"T_046ce_row6_col5\" class=\"data row6 col5\" >0.7615</td>\n",
       "      <td id=\"T_046ce_row6_col6\" class=\"data row6 col6\" >0.6137</td>\n",
       "      <td id=\"T_046ce_row6_col7\" class=\"data row6 col7\" >0.6175</td>\n",
       "      <td id=\"T_046ce_row6_col8\" class=\"data row6 col8\" >0.0360</td>\n",
       "    </tr>\n",
       "    <tr>\n",
       "      <th id=\"T_046ce_level0_row7\" class=\"row_heading level0 row7\" >ada</th>\n",
       "      <td id=\"T_046ce_row7_col0\" class=\"data row7 col0\" >Ada Boost Classifier</td>\n",
       "      <td id=\"T_046ce_row7_col1\" class=\"data row7 col1\" >0.8078</td>\n",
       "      <td id=\"T_046ce_row7_col2\" class=\"data row7 col2\" >0.8617</td>\n",
       "      <td id=\"T_046ce_row7_col3\" class=\"data row7 col3\" >0.7299</td>\n",
       "      <td id=\"T_046ce_row7_col4\" class=\"data row7 col4\" >0.7681</td>\n",
       "      <td id=\"T_046ce_row7_col5\" class=\"data row7 col5\" >0.7455</td>\n",
       "      <td id=\"T_046ce_row7_col6\" class=\"data row7 col6\" >0.5919</td>\n",
       "      <td id=\"T_046ce_row7_col7\" class=\"data row7 col7\" >0.5950</td>\n",
       "      <td id=\"T_046ce_row7_col8\" class=\"data row7 col8\" >0.0200</td>\n",
       "    </tr>\n",
       "    <tr>\n",
       "      <th id=\"T_046ce_level0_row8\" class=\"row_heading level0 row8\" >et</th>\n",
       "      <td id=\"T_046ce_row8_col0\" class=\"data row8 col0\" >Extra Trees Classifier</td>\n",
       "      <td id=\"T_046ce_row8_col1\" class=\"data row8 col1\" >0.7997</td>\n",
       "      <td id=\"T_046ce_row8_col2\" class=\"data row8 col2\" >0.8665</td>\n",
       "      <td id=\"T_046ce_row8_col3\" class=\"data row8 col3\" >0.7332</td>\n",
       "      <td id=\"T_046ce_row8_col4\" class=\"data row8 col4\" >0.7509</td>\n",
       "      <td id=\"T_046ce_row8_col5\" class=\"data row8 col5\" >0.7393</td>\n",
       "      <td id=\"T_046ce_row8_col6\" class=\"data row8 col6\" >0.5773</td>\n",
       "      <td id=\"T_046ce_row8_col7\" class=\"data row8 col7\" >0.5799</td>\n",
       "      <td id=\"T_046ce_row8_col8\" class=\"data row8 col8\" >0.0290</td>\n",
       "    </tr>\n",
       "    <tr>\n",
       "      <th id=\"T_046ce_level0_row9\" class=\"row_heading level0 row9\" >dt</th>\n",
       "      <td id=\"T_046ce_row9_col0\" class=\"data row9 col0\" >Decision Tree Classifier</td>\n",
       "      <td id=\"T_046ce_row9_col1\" class=\"data row9 col1\" >0.7744</td>\n",
       "      <td id=\"T_046ce_row9_col2\" class=\"data row9 col2\" >0.7659</td>\n",
       "      <td id=\"T_046ce_row9_col3\" class=\"data row9 col3\" >0.7262</td>\n",
       "      <td id=\"T_046ce_row9_col4\" class=\"data row9 col4\" >0.7103</td>\n",
       "      <td id=\"T_046ce_row9_col5\" class=\"data row9 col5\" >0.7144</td>\n",
       "      <td id=\"T_046ce_row9_col6\" class=\"data row9 col6\" >0.5287</td>\n",
       "      <td id=\"T_046ce_row9_col7\" class=\"data row9 col7\" >0.5326</td>\n",
       "      <td id=\"T_046ce_row9_col8\" class=\"data row9 col8\" >0.0080</td>\n",
       "    </tr>\n",
       "    <tr>\n",
       "      <th id=\"T_046ce_level0_row10\" class=\"row_heading level0 row10\" >knn</th>\n",
       "      <td id=\"T_046ce_row10_col0\" class=\"data row10 col0\" >K Neighbors Classifier</td>\n",
       "      <td id=\"T_046ce_row10_col1\" class=\"data row10 col1\" >0.7650</td>\n",
       "      <td id=\"T_046ce_row10_col2\" class=\"data row10 col2\" >0.8120</td>\n",
       "      <td id=\"T_046ce_row10_col3\" class=\"data row10 col3\" >0.6233</td>\n",
       "      <td id=\"T_046ce_row10_col4\" class=\"data row10 col4\" >0.7436</td>\n",
       "      <td id=\"T_046ce_row10_col5\" class=\"data row10 col5\" >0.6743</td>\n",
       "      <td id=\"T_046ce_row10_col6\" class=\"data row10 col6\" >0.4929</td>\n",
       "      <td id=\"T_046ce_row10_col7\" class=\"data row10 col7\" >0.5009</td>\n",
       "      <td id=\"T_046ce_row10_col8\" class=\"data row10 col8\" >0.4000</td>\n",
       "    </tr>\n",
       "    <tr>\n",
       "      <th id=\"T_046ce_level0_row11\" class=\"row_heading level0 row11\" >nb</th>\n",
       "      <td id=\"T_046ce_row11_col0\" class=\"data row11 col0\" >Naive Bayes</td>\n",
       "      <td id=\"T_046ce_row11_col1\" class=\"data row11 col1\" >0.7544</td>\n",
       "      <td id=\"T_046ce_row11_col2\" class=\"data row11 col2\" >0.8418</td>\n",
       "      <td id=\"T_046ce_row11_col3\" class=\"data row11 col3\" >0.7883</td>\n",
       "      <td id=\"T_046ce_row11_col4\" class=\"data row11 col4\" >0.6589</td>\n",
       "      <td id=\"T_046ce_row11_col5\" class=\"data row11 col5\" >0.7153</td>\n",
       "      <td id=\"T_046ce_row11_col6\" class=\"data row11 col6\" >0.5035</td>\n",
       "      <td id=\"T_046ce_row11_col7\" class=\"data row11 col7\" >0.5127</td>\n",
       "      <td id=\"T_046ce_row11_col8\" class=\"data row11 col8\" >0.0090</td>\n",
       "    </tr>\n",
       "    <tr>\n",
       "      <th id=\"T_046ce_level0_row12\" class=\"row_heading level0 row12\" >qda</th>\n",
       "      <td id=\"T_046ce_row12_col0\" class=\"data row12 col0\" >Quadratic Discriminant Analysis</td>\n",
       "      <td id=\"T_046ce_row12_col1\" class=\"data row12 col1\" >0.6531</td>\n",
       "      <td id=\"T_046ce_row12_col2\" class=\"data row12 col2\" >0.7229</td>\n",
       "      <td id=\"T_046ce_row12_col3\" class=\"data row12 col3\" >0.8254</td>\n",
       "      <td id=\"T_046ce_row12_col4\" class=\"data row12 col4\" >0.5808</td>\n",
       "      <td id=\"T_046ce_row12_col5\" class=\"data row12 col5\" >0.6464</td>\n",
       "      <td id=\"T_046ce_row12_col6\" class=\"data row12 col6\" >0.3468</td>\n",
       "      <td id=\"T_046ce_row12_col7\" class=\"data row12 col7\" >0.4054</td>\n",
       "      <td id=\"T_046ce_row12_col8\" class=\"data row12 col8\" >0.0100</td>\n",
       "    </tr>\n",
       "    <tr>\n",
       "      <th id=\"T_046ce_level0_row13\" class=\"row_heading level0 row13\" >dummy</th>\n",
       "      <td id=\"T_046ce_row13_col0\" class=\"data row13 col0\" >Dummy Classifier</td>\n",
       "      <td id=\"T_046ce_row13_col1\" class=\"data row13 col1\" >0.6101</td>\n",
       "      <td id=\"T_046ce_row13_col2\" class=\"data row13 col2\" >0.5000</td>\n",
       "      <td id=\"T_046ce_row13_col3\" class=\"data row13 col3\" >0.0000</td>\n",
       "      <td id=\"T_046ce_row13_col4\" class=\"data row13 col4\" >0.0000</td>\n",
       "      <td id=\"T_046ce_row13_col5\" class=\"data row13 col5\" >0.0000</td>\n",
       "      <td id=\"T_046ce_row13_col6\" class=\"data row13 col6\" >0.0000</td>\n",
       "      <td id=\"T_046ce_row13_col7\" class=\"data row13 col7\" >0.0000</td>\n",
       "      <td id=\"T_046ce_row13_col8\" class=\"data row13 col8\" >0.0090</td>\n",
       "    </tr>\n",
       "    <tr>\n",
       "      <th id=\"T_046ce_level0_row14\" class=\"row_heading level0 row14\" >svm</th>\n",
       "      <td id=\"T_046ce_row14_col0\" class=\"data row14 col0\" >SVM - Linear Kernel</td>\n",
       "      <td id=\"T_046ce_row14_col1\" class=\"data row14 col1\" >0.5888</td>\n",
       "      <td id=\"T_046ce_row14_col2\" class=\"data row14 col2\" >0.5332</td>\n",
       "      <td id=\"T_046ce_row14_col3\" class=\"data row14 col3\" >0.3125</td>\n",
       "      <td id=\"T_046ce_row14_col4\" class=\"data row14 col4\" >0.2565</td>\n",
       "      <td id=\"T_046ce_row14_col5\" class=\"data row14 col5\" >0.2521</td>\n",
       "      <td id=\"T_046ce_row14_col6\" class=\"data row14 col6\" >0.0782</td>\n",
       "      <td id=\"T_046ce_row14_col7\" class=\"data row14 col7\" >0.0961</td>\n",
       "      <td id=\"T_046ce_row14_col8\" class=\"data row14 col8\" >0.0100</td>\n",
       "    </tr>\n",
       "    <tr>\n",
       "      <th id=\"T_046ce_level0_row15\" class=\"row_heading level0 row15\" >catboost</th>\n",
       "      <td id=\"T_046ce_row15_col0\" class=\"data row15 col0\" >CatBoost Classifier</td>\n",
       "      <td id=\"T_046ce_row15_col1\" class=\"data row15 col1\" >0.0840</td>\n",
       "      <td id=\"T_046ce_row15_col2\" class=\"data row15 col2\" >0.0883</td>\n",
       "      <td id=\"T_046ce_row15_col3\" class=\"data row15 col3\" >0.0793</td>\n",
       "      <td id=\"T_046ce_row15_col4\" class=\"data row15 col4\" >0.0793</td>\n",
       "      <td id=\"T_046ce_row15_col5\" class=\"data row15 col5\" >0.0793</td>\n",
       "      <td id=\"T_046ce_row15_col6\" class=\"data row15 col6\" >0.0663</td>\n",
       "      <td id=\"T_046ce_row15_col7\" class=\"data row15 col7\" >0.0663</td>\n",
       "      <td id=\"T_046ce_row15_col8\" class=\"data row15 col8\" >0.2580</td>\n",
       "    </tr>\n",
       "  </tbody>\n",
       "</table>\n"
      ],
      "text/plain": [
       "<pandas.io.formats.style.Styler at 0x1b3aac5cdf0>"
      ]
     },
     "metadata": {},
     "output_type": "display_data"
    },
    {
     "data": {
      "text/html": [],
      "text/plain": [
       "<IPython.core.display.HTML object>"
      ]
     },
     "metadata": {},
     "output_type": "display_data"
    }
   ],
   "source": [
    "com=compare_models()"
   ]
  },
  {
   "cell_type": "code",
   "execution_count": 6,
   "id": "03b56838-00e4-444b-910b-b9e784c707df",
   "metadata": {},
   "outputs": [
    {
     "data": {
      "text/html": [],
      "text/plain": [
       "<IPython.core.display.HTML object>"
      ]
     },
     "metadata": {},
     "output_type": "display_data"
    },
    {
     "data": {
      "text/html": [
       "<style type=\"text/css\">\n",
       "#T_a989b th {\n",
       "  text-align: left;\n",
       "}\n",
       "#T_a989b_row0_col0, #T_a989b_row0_col3, #T_a989b_row0_col4, #T_a989b_row1_col0, #T_a989b_row1_col1, #T_a989b_row1_col2, #T_a989b_row1_col3, #T_a989b_row1_col5, #T_a989b_row1_col6, #T_a989b_row1_col7, #T_a989b_row2_col0, #T_a989b_row2_col1, #T_a989b_row2_col2, #T_a989b_row2_col3, #T_a989b_row2_col4, #T_a989b_row2_col5, #T_a989b_row2_col6, #T_a989b_row2_col7, #T_a989b_row3_col0, #T_a989b_row3_col1, #T_a989b_row3_col2, #T_a989b_row3_col3, #T_a989b_row3_col4, #T_a989b_row3_col5, #T_a989b_row3_col6, #T_a989b_row3_col7, #T_a989b_row4_col0, #T_a989b_row4_col1, #T_a989b_row4_col2, #T_a989b_row4_col3, #T_a989b_row4_col4, #T_a989b_row4_col5, #T_a989b_row4_col6, #T_a989b_row4_col7, #T_a989b_row5_col0, #T_a989b_row5_col1, #T_a989b_row5_col2, #T_a989b_row5_col3, #T_a989b_row5_col4, #T_a989b_row5_col5, #T_a989b_row5_col6, #T_a989b_row5_col7, #T_a989b_row6_col0, #T_a989b_row6_col1, #T_a989b_row6_col2, #T_a989b_row6_col3, #T_a989b_row6_col4, #T_a989b_row6_col5, #T_a989b_row6_col6, #T_a989b_row6_col7, #T_a989b_row7_col0, #T_a989b_row7_col1, #T_a989b_row7_col2, #T_a989b_row7_col3, #T_a989b_row7_col4, #T_a989b_row7_col5, #T_a989b_row7_col6, #T_a989b_row7_col7, #T_a989b_row8_col0, #T_a989b_row8_col1, #T_a989b_row8_col2, #T_a989b_row8_col3, #T_a989b_row8_col4, #T_a989b_row8_col5, #T_a989b_row8_col6, #T_a989b_row8_col7, #T_a989b_row9_col0, #T_a989b_row9_col1, #T_a989b_row9_col2, #T_a989b_row9_col3, #T_a989b_row9_col4, #T_a989b_row9_col5, #T_a989b_row9_col6, #T_a989b_row9_col7, #T_a989b_row10_col0, #T_a989b_row10_col1, #T_a989b_row10_col2, #T_a989b_row10_col3, #T_a989b_row10_col4, #T_a989b_row10_col5, #T_a989b_row10_col6, #T_a989b_row10_col7, #T_a989b_row11_col0, #T_a989b_row11_col1, #T_a989b_row11_col2, #T_a989b_row11_col3, #T_a989b_row11_col4, #T_a989b_row11_col5, #T_a989b_row11_col6, #T_a989b_row11_col7, #T_a989b_row12_col0, #T_a989b_row12_col1, #T_a989b_row12_col2, #T_a989b_row12_col3, #T_a989b_row12_col4, #T_a989b_row12_col5, #T_a989b_row12_col6, #T_a989b_row12_col7, #T_a989b_row13_col0, #T_a989b_row13_col1, #T_a989b_row13_col2, #T_a989b_row13_col4, #T_a989b_row13_col5, #T_a989b_row13_col6, #T_a989b_row13_col7, #T_a989b_row14_col0, #T_a989b_row14_col1, #T_a989b_row14_col2, #T_a989b_row14_col3, #T_a989b_row14_col4, #T_a989b_row14_col5, #T_a989b_row14_col6, #T_a989b_row14_col7, #T_a989b_row15_col0, #T_a989b_row15_col1, #T_a989b_row15_col2, #T_a989b_row15_col3, #T_a989b_row15_col4, #T_a989b_row15_col5, #T_a989b_row15_col6, #T_a989b_row15_col7 {\n",
       "  text-align: left;\n",
       "}\n",
       "#T_a989b_row0_col1, #T_a989b_row0_col2, #T_a989b_row0_col5, #T_a989b_row0_col6, #T_a989b_row0_col7, #T_a989b_row1_col4, #T_a989b_row13_col3 {\n",
       "  text-align: left;\n",
       "  background-color: yellow;\n",
       "}\n",
       "#T_a989b_row0_col8, #T_a989b_row1_col8, #T_a989b_row2_col8, #T_a989b_row3_col8, #T_a989b_row4_col8, #T_a989b_row5_col8, #T_a989b_row6_col8, #T_a989b_row7_col8, #T_a989b_row8_col8, #T_a989b_row9_col8, #T_a989b_row11_col8, #T_a989b_row12_col8, #T_a989b_row13_col8, #T_a989b_row14_col8 {\n",
       "  text-align: left;\n",
       "  background-color: lightgrey;\n",
       "}\n",
       "#T_a989b_row10_col8, #T_a989b_row15_col8 {\n",
       "  text-align: left;\n",
       "  background-color: yellow;\n",
       "  background-color: lightgrey;\n",
       "}\n",
       "</style>\n",
       "<table id=\"T_a989b\">\n",
       "  <thead>\n",
       "    <tr>\n",
       "      <th class=\"blank level0\" >&nbsp;</th>\n",
       "      <th id=\"T_a989b_level0_col0\" class=\"col_heading level0 col0\" >Model</th>\n",
       "      <th id=\"T_a989b_level0_col1\" class=\"col_heading level0 col1\" >Accuracy</th>\n",
       "      <th id=\"T_a989b_level0_col2\" class=\"col_heading level0 col2\" >AUC</th>\n",
       "      <th id=\"T_a989b_level0_col3\" class=\"col_heading level0 col3\" >Recall</th>\n",
       "      <th id=\"T_a989b_level0_col4\" class=\"col_heading level0 col4\" >Prec.</th>\n",
       "      <th id=\"T_a989b_level0_col5\" class=\"col_heading level0 col5\" >F1</th>\n",
       "      <th id=\"T_a989b_level0_col6\" class=\"col_heading level0 col6\" >Kappa</th>\n",
       "      <th id=\"T_a989b_level0_col7\" class=\"col_heading level0 col7\" >MCC</th>\n",
       "      <th id=\"T_a989b_level0_col8\" class=\"col_heading level0 col8\" >TT (Sec)</th>\n",
       "    </tr>\n",
       "  </thead>\n",
       "  <tbody>\n",
       "    <tr>\n",
       "      <th id=\"T_a989b_level0_row0\" class=\"row_heading level0 row0\" >ridge</th>\n",
       "      <td id=\"T_a989b_row0_col0\" class=\"data row0 col0\" >Ridge Classifier</td>\n",
       "      <td id=\"T_a989b_row0_col1\" class=\"data row0 col1\" >0.8411</td>\n",
       "      <td id=\"T_a989b_row0_col2\" class=\"data row0 col2\" >0.9054</td>\n",
       "      <td id=\"T_a989b_row0_col3\" class=\"data row0 col3\" >0.7914</td>\n",
       "      <td id=\"T_a989b_row0_col4\" class=\"data row0 col4\" >0.8049</td>\n",
       "      <td id=\"T_a989b_row0_col5\" class=\"data row0 col5\" >0.7945</td>\n",
       "      <td id=\"T_a989b_row0_col6\" class=\"data row0 col6\" >0.6655</td>\n",
       "      <td id=\"T_a989b_row0_col7\" class=\"data row0 col7\" >0.6692</td>\n",
       "      <td id=\"T_a989b_row0_col8\" class=\"data row0 col8\" >0.0080</td>\n",
       "    </tr>\n",
       "    <tr>\n",
       "      <th id=\"T_a989b_level0_row1\" class=\"row_heading level0 row1\" >lr</th>\n",
       "      <td id=\"T_a989b_row1_col0\" class=\"data row1 col0\" >Logistic Regression</td>\n",
       "      <td id=\"T_a989b_row1_col1\" class=\"data row1 col1\" >0.8371</td>\n",
       "      <td id=\"T_a989b_row1_col2\" class=\"data row1 col2\" >0.9052</td>\n",
       "      <td id=\"T_a989b_row1_col3\" class=\"data row1 col3\" >0.7743</td>\n",
       "      <td id=\"T_a989b_row1_col4\" class=\"data row1 col4\" >0.8087</td>\n",
       "      <td id=\"T_a989b_row1_col5\" class=\"data row1 col5\" >0.7871</td>\n",
       "      <td id=\"T_a989b_row1_col6\" class=\"data row1 col6\" >0.6560</td>\n",
       "      <td id=\"T_a989b_row1_col7\" class=\"data row1 col7\" >0.6601</td>\n",
       "      <td id=\"T_a989b_row1_col8\" class=\"data row1 col8\" >0.0210</td>\n",
       "    </tr>\n",
       "    <tr>\n",
       "      <th id=\"T_a989b_level0_row2\" class=\"row_heading level0 row2\" >gbc</th>\n",
       "      <td id=\"T_a989b_row2_col0\" class=\"data row2 col0\" >Gradient Boosting Classifier</td>\n",
       "      <td id=\"T_a989b_row2_col1\" class=\"data row2 col1\" >0.8371</td>\n",
       "      <td id=\"T_a989b_row2_col2\" class=\"data row2 col2\" >0.8998</td>\n",
       "      <td id=\"T_a989b_row2_col3\" class=\"data row2 col3\" >0.7878</td>\n",
       "      <td id=\"T_a989b_row2_col4\" class=\"data row2 col4\" >0.7961</td>\n",
       "      <td id=\"T_a989b_row2_col5\" class=\"data row2 col5\" >0.7896</td>\n",
       "      <td id=\"T_a989b_row2_col6\" class=\"data row2 col6\" >0.6571</td>\n",
       "      <td id=\"T_a989b_row2_col7\" class=\"data row2 col7\" >0.6596</td>\n",
       "      <td id=\"T_a989b_row2_col8\" class=\"data row2 col8\" >0.0280</td>\n",
       "    </tr>\n",
       "    <tr>\n",
       "      <th id=\"T_a989b_level0_row3\" class=\"row_heading level0 row3\" >lda</th>\n",
       "      <td id=\"T_a989b_row3_col0\" class=\"data row3 col0\" >Linear Discriminant Analysis</td>\n",
       "      <td id=\"T_a989b_row3_col1\" class=\"data row3 col1\" >0.8371</td>\n",
       "      <td id=\"T_a989b_row3_col2\" class=\"data row3 col2\" >0.9040</td>\n",
       "      <td id=\"T_a989b_row3_col3\" class=\"data row3 col3\" >0.7913</td>\n",
       "      <td id=\"T_a989b_row3_col4\" class=\"data row3 col4\" >0.7960</td>\n",
       "      <td id=\"T_a989b_row3_col5\" class=\"data row3 col5\" >0.7915</td>\n",
       "      <td id=\"T_a989b_row3_col6\" class=\"data row3 col6\" >0.6583</td>\n",
       "      <td id=\"T_a989b_row3_col7\" class=\"data row3 col7\" >0.6604</td>\n",
       "      <td id=\"T_a989b_row3_col8\" class=\"data row3 col8\" >0.0090</td>\n",
       "    </tr>\n",
       "    <tr>\n",
       "      <th id=\"T_a989b_level0_row4\" class=\"row_heading level0 row4\" >catboost</th>\n",
       "      <td id=\"T_a989b_row4_col0\" class=\"data row4 col0\" >CatBoost Classifier</td>\n",
       "      <td id=\"T_a989b_row4_col1\" class=\"data row4 col1\" >0.8305</td>\n",
       "      <td id=\"T_a989b_row4_col2\" class=\"data row4 col2\" >0.9018</td>\n",
       "      <td id=\"T_a989b_row4_col3\" class=\"data row4 col3\" >0.7775</td>\n",
       "      <td id=\"T_a989b_row4_col4\" class=\"data row4 col4\" >0.7900</td>\n",
       "      <td id=\"T_a989b_row4_col5\" class=\"data row4 col5\" >0.7806</td>\n",
       "      <td id=\"T_a989b_row4_col6\" class=\"data row4 col6\" >0.6429</td>\n",
       "      <td id=\"T_a989b_row4_col7\" class=\"data row4 col7\" >0.6461</td>\n",
       "      <td id=\"T_a989b_row4_col8\" class=\"data row4 col8\" >0.3170</td>\n",
       "    </tr>\n",
       "    <tr>\n",
       "      <th id=\"T_a989b_level0_row5\" class=\"row_heading level0 row5\" >xgboost</th>\n",
       "      <td id=\"T_a989b_row5_col0\" class=\"data row5 col0\" >Extreme Gradient Boosting</td>\n",
       "      <td id=\"T_a989b_row5_col1\" class=\"data row5 col1\" >0.8224</td>\n",
       "      <td id=\"T_a989b_row5_col2\" class=\"data row5 col2\" >0.8791</td>\n",
       "      <td id=\"T_a989b_row5_col3\" class=\"data row5 col3\" >0.7603</td>\n",
       "      <td id=\"T_a989b_row5_col4\" class=\"data row5 col4\" >0.7857</td>\n",
       "      <td id=\"T_a989b_row5_col5\" class=\"data row5 col5\" >0.7695</td>\n",
       "      <td id=\"T_a989b_row5_col6\" class=\"data row5 col6\" >0.6255</td>\n",
       "      <td id=\"T_a989b_row5_col7\" class=\"data row5 col7\" >0.6293</td>\n",
       "      <td id=\"T_a989b_row5_col8\" class=\"data row5 col8\" >0.0140</td>\n",
       "    </tr>\n",
       "    <tr>\n",
       "      <th id=\"T_a989b_level0_row6\" class=\"row_heading level0 row6\" >lightgbm</th>\n",
       "      <td id=\"T_a989b_row6_col0\" class=\"data row6 col0\" >Light Gradient Boosting Machine</td>\n",
       "      <td id=\"T_a989b_row6_col1\" class=\"data row6 col1\" >0.8198</td>\n",
       "      <td id=\"T_a989b_row6_col2\" class=\"data row6 col2\" >0.8794</td>\n",
       "      <td id=\"T_a989b_row6_col3\" class=\"data row6 col3\" >0.7603</td>\n",
       "      <td id=\"T_a989b_row6_col4\" class=\"data row6 col4\" >0.7785</td>\n",
       "      <td id=\"T_a989b_row6_col5\" class=\"data row6 col5\" >0.7660</td>\n",
       "      <td id=\"T_a989b_row6_col6\" class=\"data row6 col6\" >0.6200</td>\n",
       "      <td id=\"T_a989b_row6_col7\" class=\"data row6 col7\" >0.6234</td>\n",
       "      <td id=\"T_a989b_row6_col8\" class=\"data row6 col8\" >0.1510</td>\n",
       "    </tr>\n",
       "    <tr>\n",
       "      <th id=\"T_a989b_level0_row7\" class=\"row_heading level0 row7\" >rf</th>\n",
       "      <td id=\"T_a989b_row7_col0\" class=\"data row7 col0\" >Random Forest Classifier</td>\n",
       "      <td id=\"T_a989b_row7_col1\" class=\"data row7 col1\" >0.8171</td>\n",
       "      <td id=\"T_a989b_row7_col2\" class=\"data row7 col2\" >0.8883</td>\n",
       "      <td id=\"T_a989b_row7_col3\" class=\"data row7 col3\" >0.7534</td>\n",
       "      <td id=\"T_a989b_row7_col4\" class=\"data row7 col4\" >0.7771</td>\n",
       "      <td id=\"T_a989b_row7_col5\" class=\"data row7 col5\" >0.7615</td>\n",
       "      <td id=\"T_a989b_row7_col6\" class=\"data row7 col6\" >0.6137</td>\n",
       "      <td id=\"T_a989b_row7_col7\" class=\"data row7 col7\" >0.6175</td>\n",
       "      <td id=\"T_a989b_row7_col8\" class=\"data row7 col8\" >0.0330</td>\n",
       "    </tr>\n",
       "    <tr>\n",
       "      <th id=\"T_a989b_level0_row8\" class=\"row_heading level0 row8\" >ada</th>\n",
       "      <td id=\"T_a989b_row8_col0\" class=\"data row8 col0\" >Ada Boost Classifier</td>\n",
       "      <td id=\"T_a989b_row8_col1\" class=\"data row8 col1\" >0.8078</td>\n",
       "      <td id=\"T_a989b_row8_col2\" class=\"data row8 col2\" >0.8617</td>\n",
       "      <td id=\"T_a989b_row8_col3\" class=\"data row8 col3\" >0.7299</td>\n",
       "      <td id=\"T_a989b_row8_col4\" class=\"data row8 col4\" >0.7681</td>\n",
       "      <td id=\"T_a989b_row8_col5\" class=\"data row8 col5\" >0.7455</td>\n",
       "      <td id=\"T_a989b_row8_col6\" class=\"data row8 col6\" >0.5919</td>\n",
       "      <td id=\"T_a989b_row8_col7\" class=\"data row8 col7\" >0.5950</td>\n",
       "      <td id=\"T_a989b_row8_col8\" class=\"data row8 col8\" >0.0170</td>\n",
       "    </tr>\n",
       "    <tr>\n",
       "      <th id=\"T_a989b_level0_row9\" class=\"row_heading level0 row9\" >et</th>\n",
       "      <td id=\"T_a989b_row9_col0\" class=\"data row9 col0\" >Extra Trees Classifier</td>\n",
       "      <td id=\"T_a989b_row9_col1\" class=\"data row9 col1\" >0.7997</td>\n",
       "      <td id=\"T_a989b_row9_col2\" class=\"data row9 col2\" >0.8665</td>\n",
       "      <td id=\"T_a989b_row9_col3\" class=\"data row9 col3\" >0.7332</td>\n",
       "      <td id=\"T_a989b_row9_col4\" class=\"data row9 col4\" >0.7509</td>\n",
       "      <td id=\"T_a989b_row9_col5\" class=\"data row9 col5\" >0.7393</td>\n",
       "      <td id=\"T_a989b_row9_col6\" class=\"data row9 col6\" >0.5773</td>\n",
       "      <td id=\"T_a989b_row9_col7\" class=\"data row9 col7\" >0.5799</td>\n",
       "      <td id=\"T_a989b_row9_col8\" class=\"data row9 col8\" >0.0260</td>\n",
       "    </tr>\n",
       "    <tr>\n",
       "      <th id=\"T_a989b_level0_row10\" class=\"row_heading level0 row10\" >dt</th>\n",
       "      <td id=\"T_a989b_row10_col0\" class=\"data row10 col0\" >Decision Tree Classifier</td>\n",
       "      <td id=\"T_a989b_row10_col1\" class=\"data row10 col1\" >0.7744</td>\n",
       "      <td id=\"T_a989b_row10_col2\" class=\"data row10 col2\" >0.7659</td>\n",
       "      <td id=\"T_a989b_row10_col3\" class=\"data row10 col3\" >0.7262</td>\n",
       "      <td id=\"T_a989b_row10_col4\" class=\"data row10 col4\" >0.7103</td>\n",
       "      <td id=\"T_a989b_row10_col5\" class=\"data row10 col5\" >0.7144</td>\n",
       "      <td id=\"T_a989b_row10_col6\" class=\"data row10 col6\" >0.5287</td>\n",
       "      <td id=\"T_a989b_row10_col7\" class=\"data row10 col7\" >0.5326</td>\n",
       "      <td id=\"T_a989b_row10_col8\" class=\"data row10 col8\" >0.0070</td>\n",
       "    </tr>\n",
       "    <tr>\n",
       "      <th id=\"T_a989b_level0_row11\" class=\"row_heading level0 row11\" >knn</th>\n",
       "      <td id=\"T_a989b_row11_col0\" class=\"data row11 col0\" >K Neighbors Classifier</td>\n",
       "      <td id=\"T_a989b_row11_col1\" class=\"data row11 col1\" >0.7650</td>\n",
       "      <td id=\"T_a989b_row11_col2\" class=\"data row11 col2\" >0.8120</td>\n",
       "      <td id=\"T_a989b_row11_col3\" class=\"data row11 col3\" >0.6233</td>\n",
       "      <td id=\"T_a989b_row11_col4\" class=\"data row11 col4\" >0.7436</td>\n",
       "      <td id=\"T_a989b_row11_col5\" class=\"data row11 col5\" >0.6743</td>\n",
       "      <td id=\"T_a989b_row11_col6\" class=\"data row11 col6\" >0.4929</td>\n",
       "      <td id=\"T_a989b_row11_col7\" class=\"data row11 col7\" >0.5009</td>\n",
       "      <td id=\"T_a989b_row11_col8\" class=\"data row11 col8\" >0.0100</td>\n",
       "    </tr>\n",
       "    <tr>\n",
       "      <th id=\"T_a989b_level0_row12\" class=\"row_heading level0 row12\" >nb</th>\n",
       "      <td id=\"T_a989b_row12_col0\" class=\"data row12 col0\" >Naive Bayes</td>\n",
       "      <td id=\"T_a989b_row12_col1\" class=\"data row12 col1\" >0.7544</td>\n",
       "      <td id=\"T_a989b_row12_col2\" class=\"data row12 col2\" >0.8418</td>\n",
       "      <td id=\"T_a989b_row12_col3\" class=\"data row12 col3\" >0.7883</td>\n",
       "      <td id=\"T_a989b_row12_col4\" class=\"data row12 col4\" >0.6589</td>\n",
       "      <td id=\"T_a989b_row12_col5\" class=\"data row12 col5\" >0.7153</td>\n",
       "      <td id=\"T_a989b_row12_col6\" class=\"data row12 col6\" >0.5035</td>\n",
       "      <td id=\"T_a989b_row12_col7\" class=\"data row12 col7\" >0.5127</td>\n",
       "      <td id=\"T_a989b_row12_col8\" class=\"data row12 col8\" >0.0100</td>\n",
       "    </tr>\n",
       "    <tr>\n",
       "      <th id=\"T_a989b_level0_row13\" class=\"row_heading level0 row13\" >qda</th>\n",
       "      <td id=\"T_a989b_row13_col0\" class=\"data row13 col0\" >Quadratic Discriminant Analysis</td>\n",
       "      <td id=\"T_a989b_row13_col1\" class=\"data row13 col1\" >0.6531</td>\n",
       "      <td id=\"T_a989b_row13_col2\" class=\"data row13 col2\" >0.7229</td>\n",
       "      <td id=\"T_a989b_row13_col3\" class=\"data row13 col3\" >0.8254</td>\n",
       "      <td id=\"T_a989b_row13_col4\" class=\"data row13 col4\" >0.5808</td>\n",
       "      <td id=\"T_a989b_row13_col5\" class=\"data row13 col5\" >0.6464</td>\n",
       "      <td id=\"T_a989b_row13_col6\" class=\"data row13 col6\" >0.3468</td>\n",
       "      <td id=\"T_a989b_row13_col7\" class=\"data row13 col7\" >0.4054</td>\n",
       "      <td id=\"T_a989b_row13_col8\" class=\"data row13 col8\" >0.0090</td>\n",
       "    </tr>\n",
       "    <tr>\n",
       "      <th id=\"T_a989b_level0_row14\" class=\"row_heading level0 row14\" >dummy</th>\n",
       "      <td id=\"T_a989b_row14_col0\" class=\"data row14 col0\" >Dummy Classifier</td>\n",
       "      <td id=\"T_a989b_row14_col1\" class=\"data row14 col1\" >0.6101</td>\n",
       "      <td id=\"T_a989b_row14_col2\" class=\"data row14 col2\" >0.5000</td>\n",
       "      <td id=\"T_a989b_row14_col3\" class=\"data row14 col3\" >0.0000</td>\n",
       "      <td id=\"T_a989b_row14_col4\" class=\"data row14 col4\" >0.0000</td>\n",
       "      <td id=\"T_a989b_row14_col5\" class=\"data row14 col5\" >0.0000</td>\n",
       "      <td id=\"T_a989b_row14_col6\" class=\"data row14 col6\" >0.0000</td>\n",
       "      <td id=\"T_a989b_row14_col7\" class=\"data row14 col7\" >0.0000</td>\n",
       "      <td id=\"T_a989b_row14_col8\" class=\"data row14 col8\" >0.0090</td>\n",
       "    </tr>\n",
       "    <tr>\n",
       "      <th id=\"T_a989b_level0_row15\" class=\"row_heading level0 row15\" >svm</th>\n",
       "      <td id=\"T_a989b_row15_col0\" class=\"data row15 col0\" >SVM - Linear Kernel</td>\n",
       "      <td id=\"T_a989b_row15_col1\" class=\"data row15 col1\" >0.5888</td>\n",
       "      <td id=\"T_a989b_row15_col2\" class=\"data row15 col2\" >0.5332</td>\n",
       "      <td id=\"T_a989b_row15_col3\" class=\"data row15 col3\" >0.3125</td>\n",
       "      <td id=\"T_a989b_row15_col4\" class=\"data row15 col4\" >0.2565</td>\n",
       "      <td id=\"T_a989b_row15_col5\" class=\"data row15 col5\" >0.2521</td>\n",
       "      <td id=\"T_a989b_row15_col6\" class=\"data row15 col6\" >0.0782</td>\n",
       "      <td id=\"T_a989b_row15_col7\" class=\"data row15 col7\" >0.0961</td>\n",
       "      <td id=\"T_a989b_row15_col8\" class=\"data row15 col8\" >0.0070</td>\n",
       "    </tr>\n",
       "  </tbody>\n",
       "</table>\n"
      ],
      "text/plain": [
       "<pandas.io.formats.style.Styler at 0x1b3aad905b0>"
      ]
     },
     "metadata": {},
     "output_type": "display_data"
    },
    {
     "data": {
      "text/html": [],
      "text/plain": [
       "<IPython.core.display.HTML object>"
      ]
     },
     "metadata": {},
     "output_type": "display_data"
    }
   ],
   "source": [
    "top_3=compare_models(n_select=3)"
   ]
  },
  {
   "cell_type": "code",
   "execution_count": 7,
   "id": "870cc00f-c5aa-4462-b207-419864f14f70",
   "metadata": {},
   "outputs": [
    {
     "data": {
      "text/plain": [
       "[RidgeClassifier(alpha=1.0, class_weight=None, copy_X=True, fit_intercept=True,\n",
       "                 max_iter=None, positive=False, random_state=1163, solver='auto',\n",
       "                 tol=0.0001),\n",
       " LogisticRegression(C=1.0, class_weight=None, dual=False, fit_intercept=True,\n",
       "                    intercept_scaling=1, l1_ratio=None, max_iter=1000,\n",
       "                    multi_class='auto', n_jobs=None, penalty='l2',\n",
       "                    random_state=1163, solver='lbfgs', tol=0.0001, verbose=0,\n",
       "                    warm_start=False),\n",
       " GradientBoostingClassifier(ccp_alpha=0.0, criterion='friedman_mse', init=None,\n",
       "                            learning_rate=0.1, loss='log_loss', max_depth=3,\n",
       "                            max_features=None, max_leaf_nodes=None,\n",
       "                            min_impurity_decrease=0.0, min_samples_leaf=1,\n",
       "                            min_samples_split=2, min_weight_fraction_leaf=0.0,\n",
       "                            n_estimators=100, n_iter_no_change=None,\n",
       "                            random_state=1163, subsample=1.0, tol=0.0001,\n",
       "                            validation_fraction=0.1, verbose=0,\n",
       "                            warm_start=False)]"
      ]
     },
     "execution_count": 7,
     "metadata": {},
     "output_type": "execute_result"
    }
   ],
   "source": [
    "top_3"
   ]
  },
  {
   "cell_type": "code",
   "execution_count": 8,
   "id": "890b96b1-ef02-4cb3-b50a-1dc81655ceca",
   "metadata": {},
   "outputs": [
    {
     "data": {
      "text/html": [],
      "text/plain": [
       "<IPython.core.display.HTML object>"
      ]
     },
     "metadata": {},
     "output_type": "display_data"
    },
    {
     "data": {
      "text/html": [
       "<style type=\"text/css\">\n",
       "#T_cc393_row10_col0, #T_cc393_row10_col1, #T_cc393_row10_col2, #T_cc393_row10_col3, #T_cc393_row10_col4, #T_cc393_row10_col5, #T_cc393_row10_col6 {\n",
       "  background: yellow;\n",
       "}\n",
       "</style>\n",
       "<table id=\"T_cc393\">\n",
       "  <thead>\n",
       "    <tr>\n",
       "      <th class=\"blank level0\" >&nbsp;</th>\n",
       "      <th id=\"T_cc393_level0_col0\" class=\"col_heading level0 col0\" >Accuracy</th>\n",
       "      <th id=\"T_cc393_level0_col1\" class=\"col_heading level0 col1\" >AUC</th>\n",
       "      <th id=\"T_cc393_level0_col2\" class=\"col_heading level0 col2\" >Recall</th>\n",
       "      <th id=\"T_cc393_level0_col3\" class=\"col_heading level0 col3\" >Prec.</th>\n",
       "      <th id=\"T_cc393_level0_col4\" class=\"col_heading level0 col4\" >F1</th>\n",
       "      <th id=\"T_cc393_level0_col5\" class=\"col_heading level0 col5\" >Kappa</th>\n",
       "      <th id=\"T_cc393_level0_col6\" class=\"col_heading level0 col6\" >MCC</th>\n",
       "    </tr>\n",
       "    <tr>\n",
       "      <th class=\"index_name level0\" >Fold</th>\n",
       "      <th class=\"blank col0\" >&nbsp;</th>\n",
       "      <th class=\"blank col1\" >&nbsp;</th>\n",
       "      <th class=\"blank col2\" >&nbsp;</th>\n",
       "      <th class=\"blank col3\" >&nbsp;</th>\n",
       "      <th class=\"blank col4\" >&nbsp;</th>\n",
       "      <th class=\"blank col5\" >&nbsp;</th>\n",
       "      <th class=\"blank col6\" >&nbsp;</th>\n",
       "    </tr>\n",
       "  </thead>\n",
       "  <tbody>\n",
       "    <tr>\n",
       "      <th id=\"T_cc393_level0_row0\" class=\"row_heading level0 row0\" >0</th>\n",
       "      <td id=\"T_cc393_row0_col0\" class=\"data row0 col0\" >0.8533</td>\n",
       "      <td id=\"T_cc393_row0_col1\" class=\"data row0 col1\" >0.8868</td>\n",
       "      <td id=\"T_cc393_row0_col2\" class=\"data row0 col2\" >0.8276</td>\n",
       "      <td id=\"T_cc393_row0_col3\" class=\"data row0 col3\" >0.8000</td>\n",
       "      <td id=\"T_cc393_row0_col4\" class=\"data row0 col4\" >0.8136</td>\n",
       "      <td id=\"T_cc393_row0_col5\" class=\"data row0 col5\" >0.6927</td>\n",
       "      <td id=\"T_cc393_row0_col6\" class=\"data row0 col6\" >0.6930</td>\n",
       "    </tr>\n",
       "    <tr>\n",
       "      <th id=\"T_cc393_level0_row1\" class=\"row_heading level0 row1\" >1</th>\n",
       "      <td id=\"T_cc393_row1_col0\" class=\"data row1 col0\" >0.7200</td>\n",
       "      <td id=\"T_cc393_row1_col1\" class=\"data row1 col1\" >0.8441</td>\n",
       "      <td id=\"T_cc393_row1_col2\" class=\"data row1 col2\" >0.7241</td>\n",
       "      <td id=\"T_cc393_row1_col3\" class=\"data row1 col3\" >0.6176</td>\n",
       "      <td id=\"T_cc393_row1_col4\" class=\"data row1 col4\" >0.6667</td>\n",
       "      <td id=\"T_cc393_row1_col5\" class=\"data row1 col5\" >0.4279</td>\n",
       "      <td id=\"T_cc393_row1_col6\" class=\"data row1 col6\" >0.4319</td>\n",
       "    </tr>\n",
       "    <tr>\n",
       "      <th id=\"T_cc393_level0_row2\" class=\"row_heading level0 row2\" >2</th>\n",
       "      <td id=\"T_cc393_row2_col0\" class=\"data row2 col0\" >0.8533</td>\n",
       "      <td id=\"T_cc393_row2_col1\" class=\"data row2 col1\" >0.9198</td>\n",
       "      <td id=\"T_cc393_row2_col2\" class=\"data row2 col2\" >0.8276</td>\n",
       "      <td id=\"T_cc393_row2_col3\" class=\"data row2 col3\" >0.8000</td>\n",
       "      <td id=\"T_cc393_row2_col4\" class=\"data row2 col4\" >0.8136</td>\n",
       "      <td id=\"T_cc393_row2_col5\" class=\"data row2 col5\" >0.6927</td>\n",
       "      <td id=\"T_cc393_row2_col6\" class=\"data row2 col6\" >0.6930</td>\n",
       "    </tr>\n",
       "    <tr>\n",
       "      <th id=\"T_cc393_level0_row3\" class=\"row_heading level0 row3\" >3</th>\n",
       "      <td id=\"T_cc393_row3_col0\" class=\"data row3 col0\" >0.8667</td>\n",
       "      <td id=\"T_cc393_row3_col1\" class=\"data row3 col1\" >0.9303</td>\n",
       "      <td id=\"T_cc393_row3_col2\" class=\"data row3 col2\" >0.8276</td>\n",
       "      <td id=\"T_cc393_row3_col3\" class=\"data row3 col3\" >0.8276</td>\n",
       "      <td id=\"T_cc393_row3_col4\" class=\"data row3 col4\" >0.8276</td>\n",
       "      <td id=\"T_cc393_row3_col5\" class=\"data row3 col5\" >0.7189</td>\n",
       "      <td id=\"T_cc393_row3_col6\" class=\"data row3 col6\" >0.7189</td>\n",
       "    </tr>\n",
       "    <tr>\n",
       "      <th id=\"T_cc393_level0_row4\" class=\"row_heading level0 row4\" >4</th>\n",
       "      <td id=\"T_cc393_row4_col0\" class=\"data row4 col0\" >0.8133</td>\n",
       "      <td id=\"T_cc393_row4_col1\" class=\"data row4 col1\" >0.9153</td>\n",
       "      <td id=\"T_cc393_row4_col2\" class=\"data row4 col2\" >0.7931</td>\n",
       "      <td id=\"T_cc393_row4_col3\" class=\"data row4 col3\" >0.7419</td>\n",
       "      <td id=\"T_cc393_row4_col4\" class=\"data row4 col4\" >0.7667</td>\n",
       "      <td id=\"T_cc393_row4_col5\" class=\"data row4 col5\" >0.6114</td>\n",
       "      <td id=\"T_cc393_row4_col6\" class=\"data row4 col6\" >0.6123</td>\n",
       "    </tr>\n",
       "    <tr>\n",
       "      <th id=\"T_cc393_level0_row5\" class=\"row_heading level0 row5\" >5</th>\n",
       "      <td id=\"T_cc393_row5_col0\" class=\"data row5 col0\" >0.7867</td>\n",
       "      <td id=\"T_cc393_row5_col1\" class=\"data row5 col1\" >0.8801</td>\n",
       "      <td id=\"T_cc393_row5_col2\" class=\"data row5 col2\" >0.7241</td>\n",
       "      <td id=\"T_cc393_row5_col3\" class=\"data row5 col3\" >0.7241</td>\n",
       "      <td id=\"T_cc393_row5_col4\" class=\"data row5 col4\" >0.7241</td>\n",
       "      <td id=\"T_cc393_row5_col5\" class=\"data row5 col5\" >0.5502</td>\n",
       "      <td id=\"T_cc393_row5_col6\" class=\"data row5 col6\" >0.5502</td>\n",
       "    </tr>\n",
       "    <tr>\n",
       "      <th id=\"T_cc393_level0_row6\" class=\"row_heading level0 row6\" >6</th>\n",
       "      <td id=\"T_cc393_row6_col0\" class=\"data row6 col0\" >0.9067</td>\n",
       "      <td id=\"T_cc393_row6_col1\" class=\"data row6 col1\" >0.9438</td>\n",
       "      <td id=\"T_cc393_row6_col2\" class=\"data row6 col2\" >0.8966</td>\n",
       "      <td id=\"T_cc393_row6_col3\" class=\"data row6 col3\" >0.8667</td>\n",
       "      <td id=\"T_cc393_row6_col4\" class=\"data row6 col4\" >0.8814</td>\n",
       "      <td id=\"T_cc393_row6_col5\" class=\"data row6 col5\" >0.8045</td>\n",
       "      <td id=\"T_cc393_row6_col6\" class=\"data row6 col6\" >0.8048</td>\n",
       "    </tr>\n",
       "    <tr>\n",
       "      <th id=\"T_cc393_level0_row7\" class=\"row_heading level0 row7\" >7</th>\n",
       "      <td id=\"T_cc393_row7_col0\" class=\"data row7 col0\" >0.8933</td>\n",
       "      <td id=\"T_cc393_row7_col1\" class=\"data row7 col1\" >0.9356</td>\n",
       "      <td id=\"T_cc393_row7_col2\" class=\"data row7 col2\" >0.8667</td>\n",
       "      <td id=\"T_cc393_row7_col3\" class=\"data row7 col3\" >0.8667</td>\n",
       "      <td id=\"T_cc393_row7_col4\" class=\"data row7 col4\" >0.8667</td>\n",
       "      <td id=\"T_cc393_row7_col5\" class=\"data row7 col5\" >0.7778</td>\n",
       "      <td id=\"T_cc393_row7_col6\" class=\"data row7 col6\" >0.7778</td>\n",
       "    </tr>\n",
       "    <tr>\n",
       "      <th id=\"T_cc393_level0_row8\" class=\"row_heading level0 row8\" >8</th>\n",
       "      <td id=\"T_cc393_row8_col0\" class=\"data row8 col0\" >0.8267</td>\n",
       "      <td id=\"T_cc393_row8_col1\" class=\"data row8 col1\" >0.8837</td>\n",
       "      <td id=\"T_cc393_row8_col2\" class=\"data row8 col2\" >0.6667</td>\n",
       "      <td id=\"T_cc393_row8_col3\" class=\"data row8 col3\" >0.8696</td>\n",
       "      <td id=\"T_cc393_row8_col4\" class=\"data row8 col4\" >0.7547</td>\n",
       "      <td id=\"T_cc393_row8_col5\" class=\"data row8 col5\" >0.6243</td>\n",
       "      <td id=\"T_cc393_row8_col6\" class=\"data row8 col6\" >0.6375</td>\n",
       "    </tr>\n",
       "    <tr>\n",
       "      <th id=\"T_cc393_level0_row9\" class=\"row_heading level0 row9\" >9</th>\n",
       "      <td id=\"T_cc393_row9_col0\" class=\"data row9 col0\" >0.8514</td>\n",
       "      <td id=\"T_cc393_row9_col1\" class=\"data row9 col1\" >0.9011</td>\n",
       "      <td id=\"T_cc393_row9_col2\" class=\"data row9 col2\" >0.7586</td>\n",
       "      <td id=\"T_cc393_row9_col3\" class=\"data row9 col3\" >0.8462</td>\n",
       "      <td id=\"T_cc393_row9_col4\" class=\"data row9 col4\" >0.8000</td>\n",
       "      <td id=\"T_cc393_row9_col5\" class=\"data row9 col5\" >0.6823</td>\n",
       "      <td id=\"T_cc393_row9_col6\" class=\"data row9 col6\" >0.6849</td>\n",
       "    </tr>\n",
       "    <tr>\n",
       "      <th id=\"T_cc393_level0_row10\" class=\"row_heading level0 row10\" >Mean</th>\n",
       "      <td id=\"T_cc393_row10_col0\" class=\"data row10 col0\" >0.8371</td>\n",
       "      <td id=\"T_cc393_row10_col1\" class=\"data row10 col1\" >0.9040</td>\n",
       "      <td id=\"T_cc393_row10_col2\" class=\"data row10 col2\" >0.7913</td>\n",
       "      <td id=\"T_cc393_row10_col3\" class=\"data row10 col3\" >0.7960</td>\n",
       "      <td id=\"T_cc393_row10_col4\" class=\"data row10 col4\" >0.7915</td>\n",
       "      <td id=\"T_cc393_row10_col5\" class=\"data row10 col5\" >0.6583</td>\n",
       "      <td id=\"T_cc393_row10_col6\" class=\"data row10 col6\" >0.6604</td>\n",
       "    </tr>\n",
       "    <tr>\n",
       "      <th id=\"T_cc393_level0_row11\" class=\"row_heading level0 row11\" >Std</th>\n",
       "      <td id=\"T_cc393_row11_col0\" class=\"data row11 col0\" >0.0515</td>\n",
       "      <td id=\"T_cc393_row11_col1\" class=\"data row11 col1\" >0.0292</td>\n",
       "      <td id=\"T_cc393_row11_col2\" class=\"data row11 col2\" >0.0681</td>\n",
       "      <td id=\"T_cc393_row11_col3\" class=\"data row11 col3\" >0.0767</td>\n",
       "      <td id=\"T_cc393_row11_col4\" class=\"data row11 col4\" >0.0618</td>\n",
       "      <td id=\"T_cc393_row11_col5\" class=\"data row11 col5\" >0.1051</td>\n",
       "      <td id=\"T_cc393_row11_col6\" class=\"data row11 col6\" >0.1039</td>\n",
       "    </tr>\n",
       "  </tbody>\n",
       "</table>\n"
      ],
      "text/plain": [
       "<pandas.io.formats.style.Styler at 0x1b3aac9cbe0>"
      ]
     },
     "metadata": {},
     "output_type": "display_data"
    },
    {
     "data": {
      "text/html": [],
      "text/plain": [
       "<IPython.core.display.HTML object>"
      ]
     },
     "metadata": {},
     "output_type": "display_data"
    }
   ],
   "source": [
    "lda_model=create_model('lda')"
   ]
  },
  {
   "cell_type": "code",
   "execution_count": 9,
   "id": "1f002ecd-2e82-468e-9a12-d55ab99ff4bd",
   "metadata": {},
   "outputs": [
    {
     "data": {
      "text/html": [],
      "text/plain": [
       "<IPython.core.display.HTML object>"
      ]
     },
     "metadata": {},
     "output_type": "display_data"
    },
    {
     "data": {
      "image/png": "[encoded data removed]",
      "text/plain": [
       "<Figure size 800x550 with 1 Axes>"
      ]
     },
     "metadata": {},
     "output_type": "display_data"
    }
   ],
   "source": [
    "plot_model(estimator=lda_model,plot='auc')"
   ]
  },
  {
   "cell_type": "code",
   "execution_count": 10,
   "id": "32575948-ac55-46f5-9aa5-260f57f7c2a3",
   "metadata": {},
   "outputs": [
    {
     "data": {
      "text/html": [],
      "text/plain": [
       "<IPython.core.display.HTML object>"
      ]
     },
     "metadata": {},
     "output_type": "display_data"
    },
    {
     "data": {
      "image/png": "[encoded data removed]",
      "text/plain": [
       "<Figure size 800x500 with 1 Axes>"
      ]
     },
     "metadata": {},
     "output_type": "display_data"
    }
   ],
   "source": [
    "plot_model(estimator=lda_model,plot='feature')"
   ]
  },
  {
   "cell_type": "code",
   "execution_count": 11,
   "id": "c980e1c7-5419-4f9c-b257-1a5c45aaf647",
   "metadata": {},
   "outputs": [
    {
     "data": {
      "text/html": [],
      "text/plain": [
       "<IPython.core.display.HTML object>"
      ]
     },
     "metadata": {},
     "output_type": "display_data"
    },
    {
     "data": {
      "text/html": [
       "<style type=\"text/css\">\n",
       "#T_77150_row10_col0, #T_77150_row10_col1, #T_77150_row10_col2, #T_77150_row10_col3, #T_77150_row10_col4, #T_77150_row10_col5, #T_77150_row10_col6 {\n",
       "  background: yellow;\n",
       "}\n",
       "</style>\n",
       "<table id=\"T_77150\">\n",
       "  <thead>\n",
       "    <tr>\n",
       "      <th class=\"blank level0\" >&nbsp;</th>\n",
       "      <th id=\"T_77150_level0_col0\" class=\"col_heading level0 col0\" >Accuracy</th>\n",
       "      <th id=\"T_77150_level0_col1\" class=\"col_heading level0 col1\" >AUC</th>\n",
       "      <th id=\"T_77150_level0_col2\" class=\"col_heading level0 col2\" >Recall</th>\n",
       "      <th id=\"T_77150_level0_col3\" class=\"col_heading level0 col3\" >Prec.</th>\n",
       "      <th id=\"T_77150_level0_col4\" class=\"col_heading level0 col4\" >F1</th>\n",
       "      <th id=\"T_77150_level0_col5\" class=\"col_heading level0 col5\" >Kappa</th>\n",
       "      <th id=\"T_77150_level0_col6\" class=\"col_heading level0 col6\" >MCC</th>\n",
       "    </tr>\n",
       "    <tr>\n",
       "      <th class=\"index_name level0\" >Fold</th>\n",
       "      <th class=\"blank col0\" >&nbsp;</th>\n",
       "      <th class=\"blank col1\" >&nbsp;</th>\n",
       "      <th class=\"blank col2\" >&nbsp;</th>\n",
       "      <th class=\"blank col3\" >&nbsp;</th>\n",
       "      <th class=\"blank col4\" >&nbsp;</th>\n",
       "      <th class=\"blank col5\" >&nbsp;</th>\n",
       "      <th class=\"blank col6\" >&nbsp;</th>\n",
       "    </tr>\n",
       "  </thead>\n",
       "  <tbody>\n",
       "    <tr>\n",
       "      <th id=\"T_77150_level0_row0\" class=\"row_heading level0 row0\" >0</th>\n",
       "      <td id=\"T_77150_row0_col0\" class=\"data row0 col0\" >0.8533</td>\n",
       "      <td id=\"T_77150_row0_col1\" class=\"data row0 col1\" >0.8838</td>\n",
       "      <td id=\"T_77150_row0_col2\" class=\"data row0 col2\" >0.8276</td>\n",
       "      <td id=\"T_77150_row0_col3\" class=\"data row0 col3\" >0.8000</td>\n",
       "      <td id=\"T_77150_row0_col4\" class=\"data row0 col4\" >0.8136</td>\n",
       "      <td id=\"T_77150_row0_col5\" class=\"data row0 col5\" >0.6927</td>\n",
       "      <td id=\"T_77150_row0_col6\" class=\"data row0 col6\" >0.6930</td>\n",
       "    </tr>\n",
       "    <tr>\n",
       "      <th id=\"T_77150_level0_row1\" class=\"row_heading level0 row1\" >1</th>\n",
       "      <td id=\"T_77150_row1_col0\" class=\"data row1 col0\" >0.7867</td>\n",
       "      <td id=\"T_77150_row1_col1\" class=\"data row1 col1\" >0.8703</td>\n",
       "      <td id=\"T_77150_row1_col2\" class=\"data row1 col2\" >0.8276</td>\n",
       "      <td id=\"T_77150_row1_col3\" class=\"data row1 col3\" >0.6857</td>\n",
       "      <td id=\"T_77150_row1_col4\" class=\"data row1 col4\" >0.7500</td>\n",
       "      <td id=\"T_77150_row1_col5\" class=\"data row1 col5\" >0.5668</td>\n",
       "      <td id=\"T_77150_row1_col6\" class=\"data row1 col6\" >0.5744</td>\n",
       "    </tr>\n",
       "    <tr>\n",
       "      <th id=\"T_77150_level0_row2\" class=\"row_heading level0 row2\" >2</th>\n",
       "      <td id=\"T_77150_row2_col0\" class=\"data row2 col0\" >0.8533</td>\n",
       "      <td id=\"T_77150_row2_col1\" class=\"data row2 col1\" >0.9145</td>\n",
       "      <td id=\"T_77150_row2_col2\" class=\"data row2 col2\" >0.8276</td>\n",
       "      <td id=\"T_77150_row2_col3\" class=\"data row2 col3\" >0.8000</td>\n",
       "      <td id=\"T_77150_row2_col4\" class=\"data row2 col4\" >0.8136</td>\n",
       "      <td id=\"T_77150_row2_col5\" class=\"data row2 col5\" >0.6927</td>\n",
       "      <td id=\"T_77150_row2_col6\" class=\"data row2 col6\" >0.6930</td>\n",
       "    </tr>\n",
       "    <tr>\n",
       "      <th id=\"T_77150_level0_row3\" class=\"row_heading level0 row3\" >3</th>\n",
       "      <td id=\"T_77150_row3_col0\" class=\"data row3 col0\" >0.8400</td>\n",
       "      <td id=\"T_77150_row3_col1\" class=\"data row3 col1\" >0.9318</td>\n",
       "      <td id=\"T_77150_row3_col2\" class=\"data row3 col2\" >0.7586</td>\n",
       "      <td id=\"T_77150_row3_col3\" class=\"data row3 col3\" >0.8148</td>\n",
       "      <td id=\"T_77150_row3_col4\" class=\"data row3 col4\" >0.7857</td>\n",
       "      <td id=\"T_77150_row3_col5\" class=\"data row3 col5\" >0.6583</td>\n",
       "      <td id=\"T_77150_row3_col6\" class=\"data row3 col6\" >0.6594</td>\n",
       "    </tr>\n",
       "    <tr>\n",
       "      <th id=\"T_77150_level0_row4\" class=\"row_heading level0 row4\" >4</th>\n",
       "      <td id=\"T_77150_row4_col0\" class=\"data row4 col0\" >0.8133</td>\n",
       "      <td id=\"T_77150_row4_col1\" class=\"data row4 col1\" >0.9168</td>\n",
       "      <td id=\"T_77150_row4_col2\" class=\"data row4 col2\" >0.7931</td>\n",
       "      <td id=\"T_77150_row4_col3\" class=\"data row4 col3\" >0.7419</td>\n",
       "      <td id=\"T_77150_row4_col4\" class=\"data row4 col4\" >0.7667</td>\n",
       "      <td id=\"T_77150_row4_col5\" class=\"data row4 col5\" >0.6114</td>\n",
       "      <td id=\"T_77150_row4_col6\" class=\"data row4 col6\" >0.6123</td>\n",
       "    </tr>\n",
       "    <tr>\n",
       "      <th id=\"T_77150_level0_row5\" class=\"row_heading level0 row5\" >5</th>\n",
       "      <td id=\"T_77150_row5_col0\" class=\"data row5 col0\" >0.8000</td>\n",
       "      <td id=\"T_77150_row5_col1\" class=\"data row5 col1\" >0.8808</td>\n",
       "      <td id=\"T_77150_row5_col2\" class=\"data row5 col2\" >0.7241</td>\n",
       "      <td id=\"T_77150_row5_col3\" class=\"data row5 col3\" >0.7500</td>\n",
       "      <td id=\"T_77150_row5_col4\" class=\"data row5 col4\" >0.7368</td>\n",
       "      <td id=\"T_77150_row5_col5\" class=\"data row5 col5\" >0.5756</td>\n",
       "      <td id=\"T_77150_row5_col6\" class=\"data row5 col6\" >0.5759</td>\n",
       "    </tr>\n",
       "    <tr>\n",
       "      <th id=\"T_77150_level0_row6\" class=\"row_heading level0 row6\" >6</th>\n",
       "      <td id=\"T_77150_row6_col0\" class=\"data row6 col0\" >0.8933</td>\n",
       "      <td id=\"T_77150_row6_col1\" class=\"data row6 col1\" >0.9385</td>\n",
       "      <td id=\"T_77150_row6_col2\" class=\"data row6 col2\" >0.8966</td>\n",
       "      <td id=\"T_77150_row6_col3\" class=\"data row6 col3\" >0.8387</td>\n",
       "      <td id=\"T_77150_row6_col4\" class=\"data row6 col4\" >0.8667</td>\n",
       "      <td id=\"T_77150_row6_col5\" class=\"data row6 col5\" >0.7779</td>\n",
       "      <td id=\"T_77150_row6_col6\" class=\"data row6 col6\" >0.7791</td>\n",
       "    </tr>\n",
       "    <tr>\n",
       "      <th id=\"T_77150_level0_row7\" class=\"row_heading level0 row7\" >7</th>\n",
       "      <td id=\"T_77150_row7_col0\" class=\"data row7 col0\" >0.8933</td>\n",
       "      <td id=\"T_77150_row7_col1\" class=\"data row7 col1\" >0.9333</td>\n",
       "      <td id=\"T_77150_row7_col2\" class=\"data row7 col2\" >0.8667</td>\n",
       "      <td id=\"T_77150_row7_col3\" class=\"data row7 col3\" >0.8667</td>\n",
       "      <td id=\"T_77150_row7_col4\" class=\"data row7 col4\" >0.8667</td>\n",
       "      <td id=\"T_77150_row7_col5\" class=\"data row7 col5\" >0.7778</td>\n",
       "      <td id=\"T_77150_row7_col6\" class=\"data row7 col6\" >0.7778</td>\n",
       "    </tr>\n",
       "    <tr>\n",
       "      <th id=\"T_77150_level0_row8\" class=\"row_heading level0 row8\" >8</th>\n",
       "      <td id=\"T_77150_row8_col0\" class=\"data row8 col0\" >0.8267</td>\n",
       "      <td id=\"T_77150_row8_col1\" class=\"data row8 col1\" >0.8822</td>\n",
       "      <td id=\"T_77150_row8_col2\" class=\"data row8 col2\" >0.6333</td>\n",
       "      <td id=\"T_77150_row8_col3\" class=\"data row8 col3\" >0.9048</td>\n",
       "      <td id=\"T_77150_row8_col4\" class=\"data row8 col4\" >0.7451</td>\n",
       "      <td id=\"T_77150_row8_col5\" class=\"data row8 col5\" >0.6199</td>\n",
       "      <td id=\"T_77150_row8_col6\" class=\"data row8 col6\" >0.6425</td>\n",
       "    </tr>\n",
       "    <tr>\n",
       "      <th id=\"T_77150_level0_row9\" class=\"row_heading level0 row9\" >9</th>\n",
       "      <td id=\"T_77150_row9_col0\" class=\"data row9 col0\" >0.8514</td>\n",
       "      <td id=\"T_77150_row9_col1\" class=\"data row9 col1\" >0.9019</td>\n",
       "      <td id=\"T_77150_row9_col2\" class=\"data row9 col2\" >0.7586</td>\n",
       "      <td id=\"T_77150_row9_col3\" class=\"data row9 col3\" >0.8462</td>\n",
       "      <td id=\"T_77150_row9_col4\" class=\"data row9 col4\" >0.8000</td>\n",
       "      <td id=\"T_77150_row9_col5\" class=\"data row9 col5\" >0.6823</td>\n",
       "      <td id=\"T_77150_row9_col6\" class=\"data row9 col6\" >0.6849</td>\n",
       "    </tr>\n",
       "    <tr>\n",
       "      <th id=\"T_77150_level0_row10\" class=\"row_heading level0 row10\" >Mean</th>\n",
       "      <td id=\"T_77150_row10_col0\" class=\"data row10 col0\" >0.8411</td>\n",
       "      <td id=\"T_77150_row10_col1\" class=\"data row10 col1\" >0.9054</td>\n",
       "      <td id=\"T_77150_row10_col2\" class=\"data row10 col2\" >0.7914</td>\n",
       "      <td id=\"T_77150_row10_col3\" class=\"data row10 col3\" >0.8049</td>\n",
       "      <td id=\"T_77150_row10_col4\" class=\"data row10 col4\" >0.7945</td>\n",
       "      <td id=\"T_77150_row10_col5\" class=\"data row10 col5\" >0.6655</td>\n",
       "      <td id=\"T_77150_row10_col6\" class=\"data row10 col6\" >0.6692</td>\n",
       "    </tr>\n",
       "    <tr>\n",
       "      <th id=\"T_77150_level0_row11\" class=\"row_heading level0 row11\" >Std</th>\n",
       "      <td id=\"T_77150_row11_col0\" class=\"data row11 col0\" >0.0339</td>\n",
       "      <td id=\"T_77150_row11_col1\" class=\"data row11 col1\" >0.0237</td>\n",
       "      <td id=\"T_77150_row11_col2\" class=\"data row11 col2\" >0.0723</td>\n",
       "      <td id=\"T_77150_row11_col3\" class=\"data row11 col3\" >0.0616</td>\n",
       "      <td id=\"T_77150_row11_col4\" class=\"data row11 col4\" >0.0445</td>\n",
       "      <td id=\"T_77150_row11_col5\" class=\"data row11 col5\" >0.0706</td>\n",
       "      <td id=\"T_77150_row11_col6\" class=\"data row11 col6\" >0.0686</td>\n",
       "    </tr>\n",
       "  </tbody>\n",
       "</table>\n"
      ],
      "text/plain": [
       "<pandas.io.formats.style.Styler at 0x1b3aac5cbb0>"
      ]
     },
     "metadata": {},
     "output_type": "display_data"
    },
    {
     "data": {
      "text/html": [],
      "text/plain": [
       "<IPython.core.display.HTML object>"
      ]
     },
     "metadata": {},
     "output_type": "display_data"
    },
    {
     "data": {
      "text/html": [],
      "text/plain": [
       "<IPython.core.display.HTML object>"
      ]
     },
     "metadata": {},
     "output_type": "display_data"
    },
    {
     "data": {
      "text/html": [
       "<style type=\"text/css\">\n",
       "#T_6e8e3_row10_col0, #T_6e8e3_row10_col1, #T_6e8e3_row10_col2, #T_6e8e3_row10_col3, #T_6e8e3_row10_col4, #T_6e8e3_row10_col5, #T_6e8e3_row10_col6 {\n",
       "  background: yellow;\n",
       "}\n",
       "</style>\n",
       "<table id=\"T_6e8e3\">\n",
       "  <thead>\n",
       "    <tr>\n",
       "      <th class=\"blank level0\" >&nbsp;</th>\n",
       "      <th id=\"T_6e8e3_level0_col0\" class=\"col_heading level0 col0\" >Accuracy</th>\n",
       "      <th id=\"T_6e8e3_level0_col1\" class=\"col_heading level0 col1\" >AUC</th>\n",
       "      <th id=\"T_6e8e3_level0_col2\" class=\"col_heading level0 col2\" >Recall</th>\n",
       "      <th id=\"T_6e8e3_level0_col3\" class=\"col_heading level0 col3\" >Prec.</th>\n",
       "      <th id=\"T_6e8e3_level0_col4\" class=\"col_heading level0 col4\" >F1</th>\n",
       "      <th id=\"T_6e8e3_level0_col5\" class=\"col_heading level0 col5\" >Kappa</th>\n",
       "      <th id=\"T_6e8e3_level0_col6\" class=\"col_heading level0 col6\" >MCC</th>\n",
       "    </tr>\n",
       "    <tr>\n",
       "      <th class=\"index_name level0\" >Fold</th>\n",
       "      <th class=\"blank col0\" >&nbsp;</th>\n",
       "      <th class=\"blank col1\" >&nbsp;</th>\n",
       "      <th class=\"blank col2\" >&nbsp;</th>\n",
       "      <th class=\"blank col3\" >&nbsp;</th>\n",
       "      <th class=\"blank col4\" >&nbsp;</th>\n",
       "      <th class=\"blank col5\" >&nbsp;</th>\n",
       "      <th class=\"blank col6\" >&nbsp;</th>\n",
       "    </tr>\n",
       "  </thead>\n",
       "  <tbody>\n",
       "    <tr>\n",
       "      <th id=\"T_6e8e3_level0_row0\" class=\"row_heading level0 row0\" >0</th>\n",
       "      <td id=\"T_6e8e3_row0_col0\" class=\"data row0 col0\" >0.8133</td>\n",
       "      <td id=\"T_6e8e3_row0_col1\" class=\"data row0 col1\" >0.8478</td>\n",
       "      <td id=\"T_6e8e3_row0_col2\" class=\"data row0 col2\" >0.7586</td>\n",
       "      <td id=\"T_6e8e3_row0_col3\" class=\"data row0 col3\" >0.7586</td>\n",
       "      <td id=\"T_6e8e3_row0_col4\" class=\"data row0 col4\" >0.7586</td>\n",
       "      <td id=\"T_6e8e3_row0_col5\" class=\"data row0 col5\" >0.6064</td>\n",
       "      <td id=\"T_6e8e3_row0_col6\" class=\"data row0 col6\" >0.6064</td>\n",
       "    </tr>\n",
       "    <tr>\n",
       "      <th id=\"T_6e8e3_level0_row1\" class=\"row_heading level0 row1\" >1</th>\n",
       "      <td id=\"T_6e8e3_row1_col0\" class=\"data row1 col0\" >0.7067</td>\n",
       "      <td id=\"T_6e8e3_row1_col1\" class=\"data row1 col1\" >0.7969</td>\n",
       "      <td id=\"T_6e8e3_row1_col2\" class=\"data row1 col2\" >0.6897</td>\n",
       "      <td id=\"T_6e8e3_row1_col3\" class=\"data row1 col3\" >0.6061</td>\n",
       "      <td id=\"T_6e8e3_row1_col4\" class=\"data row1 col4\" >0.6452</td>\n",
       "      <td id=\"T_6e8e3_row1_col5\" class=\"data row1 col5\" >0.3969</td>\n",
       "      <td id=\"T_6e8e3_row1_col6\" class=\"data row1 col6\" >0.3993</td>\n",
       "    </tr>\n",
       "    <tr>\n",
       "      <th id=\"T_6e8e3_level0_row2\" class=\"row_heading level0 row2\" >2</th>\n",
       "      <td id=\"T_6e8e3_row2_col0\" class=\"data row2 col0\" >0.8667</td>\n",
       "      <td id=\"T_6e8e3_row2_col1\" class=\"data row2 col1\" >0.9130</td>\n",
       "      <td id=\"T_6e8e3_row2_col2\" class=\"data row2 col2\" >0.7931</td>\n",
       "      <td id=\"T_6e8e3_row2_col3\" class=\"data row2 col3\" >0.8519</td>\n",
       "      <td id=\"T_6e8e3_row2_col4\" class=\"data row2 col4\" >0.8214</td>\n",
       "      <td id=\"T_6e8e3_row2_col5\" class=\"data row2 col5\" >0.7153</td>\n",
       "      <td id=\"T_6e8e3_row2_col6\" class=\"data row2 col6\" >0.7164</td>\n",
       "    </tr>\n",
       "    <tr>\n",
       "      <th id=\"T_6e8e3_level0_row3\" class=\"row_heading level0 row3\" >3</th>\n",
       "      <td id=\"T_6e8e3_row3_col0\" class=\"data row3 col0\" >0.8400</td>\n",
       "      <td id=\"T_6e8e3_row3_col1\" class=\"data row3 col1\" >0.9010</td>\n",
       "      <td id=\"T_6e8e3_row3_col2\" class=\"data row3 col2\" >0.7586</td>\n",
       "      <td id=\"T_6e8e3_row3_col3\" class=\"data row3 col3\" >0.8148</td>\n",
       "      <td id=\"T_6e8e3_row3_col4\" class=\"data row3 col4\" >0.7857</td>\n",
       "      <td id=\"T_6e8e3_row3_col5\" class=\"data row3 col5\" >0.6583</td>\n",
       "      <td id=\"T_6e8e3_row3_col6\" class=\"data row3 col6\" >0.6594</td>\n",
       "    </tr>\n",
       "    <tr>\n",
       "      <th id=\"T_6e8e3_level0_row4\" class=\"row_heading level0 row4\" >4</th>\n",
       "      <td id=\"T_6e8e3_row4_col0\" class=\"data row4 col0\" >0.8267</td>\n",
       "      <td id=\"T_6e8e3_row4_col1\" class=\"data row4 col1\" >0.8898</td>\n",
       "      <td id=\"T_6e8e3_row4_col2\" class=\"data row4 col2\" >0.8621</td>\n",
       "      <td id=\"T_6e8e3_row4_col3\" class=\"data row4 col3\" >0.7353</td>\n",
       "      <td id=\"T_6e8e3_row4_col4\" class=\"data row4 col4\" >0.7937</td>\n",
       "      <td id=\"T_6e8e3_row4_col5\" class=\"data row4 col5\" >0.6458</td>\n",
       "      <td id=\"T_6e8e3_row4_col6\" class=\"data row4 col6\" >0.6519</td>\n",
       "    </tr>\n",
       "    <tr>\n",
       "      <th id=\"T_6e8e3_level0_row5\" class=\"row_heading level0 row5\" >5</th>\n",
       "      <td id=\"T_6e8e3_row5_col0\" class=\"data row5 col0\" >0.7467</td>\n",
       "      <td id=\"T_6e8e3_row5_col1\" class=\"data row5 col1\" >0.8636</td>\n",
       "      <td id=\"T_6e8e3_row5_col2\" class=\"data row5 col2\" >0.6207</td>\n",
       "      <td id=\"T_6e8e3_row5_col3\" class=\"data row5 col3\" >0.6923</td>\n",
       "      <td id=\"T_6e8e3_row5_col4\" class=\"data row5 col4\" >0.6545</td>\n",
       "      <td id=\"T_6e8e3_row5_col5\" class=\"data row5 col5\" >0.4555</td>\n",
       "      <td id=\"T_6e8e3_row5_col6\" class=\"data row5 col6\" >0.4572</td>\n",
       "    </tr>\n",
       "    <tr>\n",
       "      <th id=\"T_6e8e3_level0_row6\" class=\"row_heading level0 row6\" >6</th>\n",
       "      <td id=\"T_6e8e3_row6_col0\" class=\"data row6 col0\" >0.9067</td>\n",
       "      <td id=\"T_6e8e3_row6_col1\" class=\"data row6 col1\" >0.9213</td>\n",
       "      <td id=\"T_6e8e3_row6_col2\" class=\"data row6 col2\" >0.8966</td>\n",
       "      <td id=\"T_6e8e3_row6_col3\" class=\"data row6 col3\" >0.8667</td>\n",
       "      <td id=\"T_6e8e3_row6_col4\" class=\"data row6 col4\" >0.8814</td>\n",
       "      <td id=\"T_6e8e3_row6_col5\" class=\"data row6 col5\" >0.8045</td>\n",
       "      <td id=\"T_6e8e3_row6_col6\" class=\"data row6 col6\" >0.8048</td>\n",
       "    </tr>\n",
       "    <tr>\n",
       "      <th id=\"T_6e8e3_level0_row7\" class=\"row_heading level0 row7\" >7</th>\n",
       "      <td id=\"T_6e8e3_row7_col0\" class=\"data row7 col0\" >0.8533</td>\n",
       "      <td id=\"T_6e8e3_row7_col1\" class=\"data row7 col1\" >0.9296</td>\n",
       "      <td id=\"T_6e8e3_row7_col2\" class=\"data row7 col2\" >0.8667</td>\n",
       "      <td id=\"T_6e8e3_row7_col3\" class=\"data row7 col3\" >0.7879</td>\n",
       "      <td id=\"T_6e8e3_row7_col4\" class=\"data row7 col4\" >0.8254</td>\n",
       "      <td id=\"T_6e8e3_row7_col5\" class=\"data row7 col5\" >0.6995</td>\n",
       "      <td id=\"T_6e8e3_row7_col6\" class=\"data row7 col6\" >0.7018</td>\n",
       "    </tr>\n",
       "    <tr>\n",
       "      <th id=\"T_6e8e3_level0_row8\" class=\"row_heading level0 row8\" >8</th>\n",
       "      <td id=\"T_6e8e3_row8_col0\" class=\"data row8 col0\" >0.8133</td>\n",
       "      <td id=\"T_6e8e3_row8_col1\" class=\"data row8 col1\" >0.8593</td>\n",
       "      <td id=\"T_6e8e3_row8_col2\" class=\"data row8 col2\" >0.6333</td>\n",
       "      <td id=\"T_6e8e3_row8_col3\" class=\"data row8 col3\" >0.8636</td>\n",
       "      <td id=\"T_6e8e3_row8_col4\" class=\"data row8 col4\" >0.7308</td>\n",
       "      <td id=\"T_6e8e3_row8_col5\" class=\"data row8 col5\" >0.5930</td>\n",
       "      <td id=\"T_6e8e3_row8_col6\" class=\"data row8 col6\" >0.6097</td>\n",
       "    </tr>\n",
       "    <tr>\n",
       "      <th id=\"T_6e8e3_level0_row9\" class=\"row_heading level0 row9\" >9</th>\n",
       "      <td id=\"T_6e8e3_row9_col0\" class=\"data row9 col0\" >0.8243</td>\n",
       "      <td id=\"T_6e8e3_row9_col1\" class=\"data row9 col1\" >0.8713</td>\n",
       "      <td id=\"T_6e8e3_row9_col2\" class=\"data row9 col2\" >0.7241</td>\n",
       "      <td id=\"T_6e8e3_row9_col3\" class=\"data row9 col3\" >0.8077</td>\n",
       "      <td id=\"T_6e8e3_row9_col4\" class=\"data row9 col4\" >0.7636</td>\n",
       "      <td id=\"T_6e8e3_row9_col5\" class=\"data row9 col5\" >0.6245</td>\n",
       "      <td id=\"T_6e8e3_row9_col6\" class=\"data row9 col6\" >0.6269</td>\n",
       "    </tr>\n",
       "    <tr>\n",
       "      <th id=\"T_6e8e3_level0_row10\" class=\"row_heading level0 row10\" >Mean</th>\n",
       "      <td id=\"T_6e8e3_row10_col0\" class=\"data row10 col0\" >0.8198</td>\n",
       "      <td id=\"T_6e8e3_row10_col1\" class=\"data row10 col1\" >0.8794</td>\n",
       "      <td id=\"T_6e8e3_row10_col2\" class=\"data row10 col2\" >0.7603</td>\n",
       "      <td id=\"T_6e8e3_row10_col3\" class=\"data row10 col3\" >0.7785</td>\n",
       "      <td id=\"T_6e8e3_row10_col4\" class=\"data row10 col4\" >0.7660</td>\n",
       "      <td id=\"T_6e8e3_row10_col5\" class=\"data row10 col5\" >0.6200</td>\n",
       "      <td id=\"T_6e8e3_row10_col6\" class=\"data row10 col6\" >0.6234</td>\n",
       "    </tr>\n",
       "    <tr>\n",
       "      <th id=\"T_6e8e3_level0_row11\" class=\"row_heading level0 row11\" >Std</th>\n",
       "      <td id=\"T_6e8e3_row11_col0\" class=\"data row11 col0\" >0.0544</td>\n",
       "      <td id=\"T_6e8e3_row11_col1\" class=\"data row11 col1\" >0.0381</td>\n",
       "      <td id=\"T_6e8e3_row11_col2\" class=\"data row11 col2\" >0.0912</td>\n",
       "      <td id=\"T_6e8e3_row11_col3\" class=\"data row11 col3\" >0.0788</td>\n",
       "      <td id=\"T_6e8e3_row11_col4\" class=\"data row11 col4\" >0.0703</td>\n",
       "      <td id=\"T_6e8e3_row11_col5\" class=\"data row11 col5\" >0.1137</td>\n",
       "      <td id=\"T_6e8e3_row11_col6\" class=\"data row11 col6\" >0.1132</td>\n",
       "    </tr>\n",
       "  </tbody>\n",
       "</table>\n"
      ],
      "text/plain": [
       "<pandas.io.formats.style.Styler at 0x1b3aad394c0>"
      ]
     },
     "metadata": {},
     "output_type": "display_data"
    },
    {
     "data": {
      "text/html": [],
      "text/plain": [
       "<IPython.core.display.HTML object>"
      ]
     },
     "metadata": {},
     "output_type": "display_data"
    },
    {
     "data": {
      "text/html": [],
      "text/plain": [
       "<IPython.core.display.HTML object>"
      ]
     },
     "metadata": {},
     "output_type": "display_data"
    },
    {
     "data": {
      "text/html": [
       "<style type=\"text/css\">\n",
       "#T_e763e_row10_col0, #T_e763e_row10_col1, #T_e763e_row10_col2, #T_e763e_row10_col3, #T_e763e_row10_col4, #T_e763e_row10_col5, #T_e763e_row10_col6 {\n",
       "  background: yellow;\n",
       "}\n",
       "</style>\n",
       "<table id=\"T_e763e\">\n",
       "  <thead>\n",
       "    <tr>\n",
       "      <th class=\"blank level0\" >&nbsp;</th>\n",
       "      <th id=\"T_e763e_level0_col0\" class=\"col_heading level0 col0\" >Accuracy</th>\n",
       "      <th id=\"T_e763e_level0_col1\" class=\"col_heading level0 col1\" >AUC</th>\n",
       "      <th id=\"T_e763e_level0_col2\" class=\"col_heading level0 col2\" >Recall</th>\n",
       "      <th id=\"T_e763e_level0_col3\" class=\"col_heading level0 col3\" >Prec.</th>\n",
       "      <th id=\"T_e763e_level0_col4\" class=\"col_heading level0 col4\" >F1</th>\n",
       "      <th id=\"T_e763e_level0_col5\" class=\"col_heading level0 col5\" >Kappa</th>\n",
       "      <th id=\"T_e763e_level0_col6\" class=\"col_heading level0 col6\" >MCC</th>\n",
       "    </tr>\n",
       "    <tr>\n",
       "      <th class=\"index_name level0\" >Fold</th>\n",
       "      <th class=\"blank col0\" >&nbsp;</th>\n",
       "      <th class=\"blank col1\" >&nbsp;</th>\n",
       "      <th class=\"blank col2\" >&nbsp;</th>\n",
       "      <th class=\"blank col3\" >&nbsp;</th>\n",
       "      <th class=\"blank col4\" >&nbsp;</th>\n",
       "      <th class=\"blank col5\" >&nbsp;</th>\n",
       "      <th class=\"blank col6\" >&nbsp;</th>\n",
       "    </tr>\n",
       "  </thead>\n",
       "  <tbody>\n",
       "    <tr>\n",
       "      <th id=\"T_e763e_level0_row0\" class=\"row_heading level0 row0\" >0</th>\n",
       "      <td id=\"T_e763e_row0_col0\" class=\"data row0 col0\" >0.8400</td>\n",
       "      <td id=\"T_e763e_row0_col1\" class=\"data row0 col1\" >0.0000</td>\n",
       "      <td id=\"T_e763e_row0_col2\" class=\"data row0 col2\" >0.8276</td>\n",
       "      <td id=\"T_e763e_row0_col3\" class=\"data row0 col3\" >0.7742</td>\n",
       "      <td id=\"T_e763e_row0_col4\" class=\"data row0 col4\" >0.8000</td>\n",
       "      <td id=\"T_e763e_row0_col5\" class=\"data row0 col5\" >0.6669</td>\n",
       "      <td id=\"T_e763e_row0_col6\" class=\"data row0 col6\" >0.6679</td>\n",
       "    </tr>\n",
       "    <tr>\n",
       "      <th id=\"T_e763e_level0_row1\" class=\"row_heading level0 row1\" >1</th>\n",
       "      <td id=\"T_e763e_row1_col0\" class=\"data row1 col0\" >0.7333</td>\n",
       "      <td id=\"T_e763e_row1_col1\" class=\"data row1 col1\" >0.0000</td>\n",
       "      <td id=\"T_e763e_row1_col2\" class=\"data row1 col2\" >0.7586</td>\n",
       "      <td id=\"T_e763e_row1_col3\" class=\"data row1 col3\" >0.6286</td>\n",
       "      <td id=\"T_e763e_row1_col4\" class=\"data row1 col4\" >0.6875</td>\n",
       "      <td id=\"T_e763e_row1_col5\" class=\"data row1 col5\" >0.4585</td>\n",
       "      <td id=\"T_e763e_row1_col6\" class=\"data row1 col6\" >0.4647</td>\n",
       "    </tr>\n",
       "    <tr>\n",
       "      <th id=\"T_e763e_level0_row2\" class=\"row_heading level0 row2\" >2</th>\n",
       "      <td id=\"T_e763e_row2_col0\" class=\"data row2 col0\" >0.8533</td>\n",
       "      <td id=\"T_e763e_row2_col1\" class=\"data row2 col1\" >0.0000</td>\n",
       "      <td id=\"T_e763e_row2_col2\" class=\"data row2 col2\" >0.8276</td>\n",
       "      <td id=\"T_e763e_row2_col3\" class=\"data row2 col3\" >0.8000</td>\n",
       "      <td id=\"T_e763e_row2_col4\" class=\"data row2 col4\" >0.8136</td>\n",
       "      <td id=\"T_e763e_row2_col5\" class=\"data row2 col5\" >0.6927</td>\n",
       "      <td id=\"T_e763e_row2_col6\" class=\"data row2 col6\" >0.6930</td>\n",
       "    </tr>\n",
       "    <tr>\n",
       "      <th id=\"T_e763e_level0_row3\" class=\"row_heading level0 row3\" >3</th>\n",
       "      <td id=\"T_e763e_row3_col0\" class=\"data row3 col0\" >0.8667</td>\n",
       "      <td id=\"T_e763e_row3_col1\" class=\"data row3 col1\" >0.0000</td>\n",
       "      <td id=\"T_e763e_row3_col2\" class=\"data row3 col2\" >0.8276</td>\n",
       "      <td id=\"T_e763e_row3_col3\" class=\"data row3 col3\" >0.8276</td>\n",
       "      <td id=\"T_e763e_row3_col4\" class=\"data row3 col4\" >0.8276</td>\n",
       "      <td id=\"T_e763e_row3_col5\" class=\"data row3 col5\" >0.7189</td>\n",
       "      <td id=\"T_e763e_row3_col6\" class=\"data row3 col6\" >0.7189</td>\n",
       "    </tr>\n",
       "    <tr>\n",
       "      <th id=\"T_e763e_level0_row4\" class=\"row_heading level0 row4\" >4</th>\n",
       "      <td id=\"T_e763e_row4_col0\" class=\"data row4 col0\" >0.8267</td>\n",
       "      <td id=\"T_e763e_row4_col1\" class=\"data row4 col1\" >0.0000</td>\n",
       "      <td id=\"T_e763e_row4_col2\" class=\"data row4 col2\" >0.8276</td>\n",
       "      <td id=\"T_e763e_row4_col3\" class=\"data row4 col3\" >0.7500</td>\n",
       "      <td id=\"T_e763e_row4_col4\" class=\"data row4 col4\" >0.7869</td>\n",
       "      <td id=\"T_e763e_row4_col5\" class=\"data row4 col5\" >0.6414</td>\n",
       "      <td id=\"T_e763e_row4_col6\" class=\"data row4 col6\" >0.6436</td>\n",
       "    </tr>\n",
       "    <tr>\n",
       "      <th id=\"T_e763e_level0_row5\" class=\"row_heading level0 row5\" >5</th>\n",
       "      <td id=\"T_e763e_row5_col0\" class=\"data row5 col0\" >0.7867</td>\n",
       "      <td id=\"T_e763e_row5_col1\" class=\"data row5 col1\" >0.0000</td>\n",
       "      <td id=\"T_e763e_row5_col2\" class=\"data row5 col2\" >0.7241</td>\n",
       "      <td id=\"T_e763e_row5_col3\" class=\"data row5 col3\" >0.7241</td>\n",
       "      <td id=\"T_e763e_row5_col4\" class=\"data row5 col4\" >0.7241</td>\n",
       "      <td id=\"T_e763e_row5_col5\" class=\"data row5 col5\" >0.5502</td>\n",
       "      <td id=\"T_e763e_row5_col6\" class=\"data row5 col6\" >0.5502</td>\n",
       "    </tr>\n",
       "    <tr>\n",
       "      <th id=\"T_e763e_level0_row6\" class=\"row_heading level0 row6\" >6</th>\n",
       "      <td id=\"T_e763e_row6_col0\" class=\"data row6 col0\" >0.9067</td>\n",
       "      <td id=\"T_e763e_row6_col1\" class=\"data row6 col1\" >0.0000</td>\n",
       "      <td id=\"T_e763e_row6_col2\" class=\"data row6 col2\" >0.8966</td>\n",
       "      <td id=\"T_e763e_row6_col3\" class=\"data row6 col3\" >0.8667</td>\n",
       "      <td id=\"T_e763e_row6_col4\" class=\"data row6 col4\" >0.8814</td>\n",
       "      <td id=\"T_e763e_row6_col5\" class=\"data row6 col5\" >0.8045</td>\n",
       "      <td id=\"T_e763e_row6_col6\" class=\"data row6 col6\" >0.8048</td>\n",
       "    </tr>\n",
       "    <tr>\n",
       "      <th id=\"T_e763e_level0_row7\" class=\"row_heading level0 row7\" >7</th>\n",
       "      <td id=\"T_e763e_row7_col0\" class=\"data row7 col0\" >0.8933</td>\n",
       "      <td id=\"T_e763e_row7_col1\" class=\"data row7 col1\" >0.0000</td>\n",
       "      <td id=\"T_e763e_row7_col2\" class=\"data row7 col2\" >0.8667</td>\n",
       "      <td id=\"T_e763e_row7_col3\" class=\"data row7 col3\" >0.8667</td>\n",
       "      <td id=\"T_e763e_row7_col4\" class=\"data row7 col4\" >0.8667</td>\n",
       "      <td id=\"T_e763e_row7_col5\" class=\"data row7 col5\" >0.7778</td>\n",
       "      <td id=\"T_e763e_row7_col6\" class=\"data row7 col6\" >0.7778</td>\n",
       "    </tr>\n",
       "    <tr>\n",
       "      <th id=\"T_e763e_level0_row8\" class=\"row_heading level0 row8\" >8</th>\n",
       "      <td id=\"T_e763e_row8_col0\" class=\"data row8 col0\" >0.8400</td>\n",
       "      <td id=\"T_e763e_row8_col1\" class=\"data row8 col1\" >0.0000</td>\n",
       "      <td id=\"T_e763e_row8_col2\" class=\"data row8 col2\" >0.6667</td>\n",
       "      <td id=\"T_e763e_row8_col3\" class=\"data row8 col3\" >0.9091</td>\n",
       "      <td id=\"T_e763e_row8_col4\" class=\"data row8 col4\" >0.7692</td>\n",
       "      <td id=\"T_e763e_row8_col5\" class=\"data row8 col5\" >0.6512</td>\n",
       "      <td id=\"T_e763e_row8_col6\" class=\"data row8 col6\" >0.6695</td>\n",
       "    </tr>\n",
       "    <tr>\n",
       "      <th id=\"T_e763e_level0_row9\" class=\"row_heading level0 row9\" >9</th>\n",
       "      <td id=\"T_e763e_row9_col0\" class=\"data row9 col0\" >0.8514</td>\n",
       "      <td id=\"T_e763e_row9_col1\" class=\"data row9 col1\" >0.0000</td>\n",
       "      <td id=\"T_e763e_row9_col2\" class=\"data row9 col2\" >0.7586</td>\n",
       "      <td id=\"T_e763e_row9_col3\" class=\"data row9 col3\" >0.8462</td>\n",
       "      <td id=\"T_e763e_row9_col4\" class=\"data row9 col4\" >0.8000</td>\n",
       "      <td id=\"T_e763e_row9_col5\" class=\"data row9 col5\" >0.6823</td>\n",
       "      <td id=\"T_e763e_row9_col6\" class=\"data row9 col6\" >0.6849</td>\n",
       "    </tr>\n",
       "    <tr>\n",
       "      <th id=\"T_e763e_level0_row10\" class=\"row_heading level0 row10\" >Mean</th>\n",
       "      <td id=\"T_e763e_row10_col0\" class=\"data row10 col0\" >0.8398</td>\n",
       "      <td id=\"T_e763e_row10_col1\" class=\"data row10 col1\" >0.0000</td>\n",
       "      <td id=\"T_e763e_row10_col2\" class=\"data row10 col2\" >0.7982</td>\n",
       "      <td id=\"T_e763e_row10_col3\" class=\"data row10 col3\" >0.7993</td>\n",
       "      <td id=\"T_e763e_row10_col4\" class=\"data row10 col4\" >0.7957</td>\n",
       "      <td id=\"T_e763e_row10_col5\" class=\"data row10 col5\" >0.6644</td>\n",
       "      <td id=\"T_e763e_row10_col6\" class=\"data row10 col6\" >0.6675</td>\n",
       "    </tr>\n",
       "    <tr>\n",
       "      <th id=\"T_e763e_level0_row11\" class=\"row_heading level0 row11\" >Std</th>\n",
       "      <td id=\"T_e763e_row11_col0\" class=\"data row11 col0\" >0.0477</td>\n",
       "      <td id=\"T_e763e_row11_col1\" class=\"data row11 col1\" >0.0000</td>\n",
       "      <td id=\"T_e763e_row11_col2\" class=\"data row11 col2\" >0.0661</td>\n",
       "      <td id=\"T_e763e_row11_col3\" class=\"data row11 col3\" >0.0787</td>\n",
       "      <td id=\"T_e763e_row11_col4\" class=\"data row11 col4\" >0.0560</td>\n",
       "      <td id=\"T_e763e_row11_col5\" class=\"data row11 col5\" >0.0963</td>\n",
       "      <td id=\"T_e763e_row11_col6\" class=\"data row11 col6\" >0.0949</td>\n",
       "    </tr>\n",
       "  </tbody>\n",
       "</table>\n"
      ],
      "text/plain": [
       "<pandas.io.formats.style.Styler at 0x1b3aa93d430>"
      ]
     },
     "metadata": {},
     "output_type": "display_data"
    },
    {
     "data": {
      "text/html": [],
      "text/plain": [
       "<IPython.core.display.HTML object>"
      ]
     },
     "metadata": {},
     "output_type": "display_data"
    }
   ],
   "source": [
    "rd = create_model('ridge');      \n",
    "lgm  = create_model('lightgbm');            \n",
    "\n",
    "#blending 3 models\n",
    "blend = blend_models(estimator_list=[lgm,lda_model,rd])"
   ]
  },
  {
   "cell_type": "code",
   "execution_count": 14,
   "id": "a14f0cba-9dec-4047-8a18-7d2410bcb45a",
   "metadata": {},
   "outputs": [
    {
     "name": "stdout",
     "output_type": "stream",
     "text": [
      "Threshold: 0.0. Accuracy: 0.3899\n",
      "Threshold: 0.5. Accuracy: 0.8318\n",
      "Threshold: 0.75. Accuracy: 0.7877\n",
      "Threshold: 0.25. Accuracy: 0.7997\n",
      "Threshold: 0.375. Accuracy: 0.8197\n",
      "Threshold: 0.875. Accuracy: 0.7583\n",
      "Threshold: 0.625. Accuracy: 0.8304\n",
      "Threshold: 0.125. Accuracy: 0.7317\n",
      "Threshold: 0.09375. Accuracy: 0.709\n",
      "Threshold: 0.59375. Accuracy: 0.8277\n",
      "Threshold: 0.84375. Accuracy: 0.781\n",
      "Threshold: 0.34375. Accuracy: 0.825\n",
      "Threshold: 0.46875. Accuracy: 0.8331\n",
      "Threshold: 0.96875. Accuracy: 0.6489\n",
      "Threshold: 0.71875. Accuracy: 0.7983\n",
      "Threshold: 0.21875. Accuracy: 0.7837\n",
      "Threshold: 0.234375. Accuracy: 0.7957\n",
      "Threshold: 0.734375. Accuracy: 0.7917\n",
      "Threshold: 0.984375. Accuracy: 0.6221\n",
      "Threshold: 0.484375. Accuracy: 0.8372\n",
      "Threshold: 0.359375. Accuracy: 0.8224\n",
      "Threshold: 0.859375. Accuracy: 0.7716\n",
      "Threshold: 0.609375. Accuracy: 0.8291\n",
      "Threshold: 0.109375. Accuracy: 0.725\n",
      "Threshold: 0.078125. Accuracy: 0.6877\n",
      "Threshold: 0.578125. Accuracy: 0.8264\n",
      "Threshold: 0.828125. Accuracy: 0.7863\n",
      "Threshold: 0.328125. Accuracy: 0.8237\n",
      "Threshold: 0.453125. Accuracy: 0.8278\n",
      "Threshold: 0.953125. Accuracy: 0.6782\n",
      "Threshold: 0.703125. Accuracy: 0.8064\n",
      "Threshold: 0.203125. Accuracy: 0.7717\n",
      "Threshold: 0.484375. Accuracy: 0.8372\n",
      "Threshold: 0.4843750149011612. Accuracy: 0.8372\n",
      "Threshold: 0.953125. Accuracy: 0.6782\n",
      "Threshold: 0.9531250149011612. Accuracy: 0.6782\n",
      "Threshold: 0.03125. Accuracy: 0.5755\n",
      "Threshold: 0.031250014901161194. Accuracy: 0.5755\n",
      "Threshold: 0.90625. Accuracy: 0.7329\n",
      "Threshold: 0.9062500149011612. Accuracy: 0.7329\n",
      "Threshold: 0.109375. Accuracy: 0.725\n",
      "Threshold: 0.1093750149011612. Accuracy: 0.725\n",
      "Threshold: 0.828125. Accuracy: 0.7863\n",
      "Threshold: 0.8281250149011612. Accuracy: 0.7863\n",
      "Threshold: 0.171875. Accuracy: 0.7624\n",
      "Threshold: 0.1718750149011612. Accuracy: 0.7624\n",
      "Threshold: 0.703125. Accuracy: 0.8064\n",
      "Threshold: 0.7031250149011612. Accuracy: 0.8064\n",
      "Threshold: 0.296875. Accuracy: 0.8144\n",
      "Threshold: 0.2968750149011612. Accuracy: 0.8144\n",
      "Threshold: 0.65625. Accuracy: 0.8117\n",
      "Threshold: 0.6562500149011612. Accuracy: 0.8117\n",
      "Threshold: 0.421875. Accuracy: 0.821\n",
      "Threshold: 0.4218750149011612. Accuracy: 0.821\n",
      "optimization loop finished successfully. Best threshold: 0.484375 with Accuracy=0.8372\n"
     ]
    },
    {
     "data": {
      "application/vnd.plotly.v1+json": {
       "config": {
        "plotlyServerURL": "https://plot.ly"
       },
       "data": [
        {
         "hovertemplate": "variable=Accuracy<br>probability_threshold=%{x}<br>value=%{y}<extra></extra>",
         "legendgroup": "Accuracy",
         "line": {
          "color": "#636efa",
          "dash": "solid"
         },
         "marker": {
          "symbol": "circle"
         },
         "mode": "lines",
         "name": "Accuracy",
         "orientation": "v",
         "showlegend": true,
         "type": "scatter",
         "x": [
          0,
          0.03125,
          0.031250014901161194,
          0.078125,
          0.09375,
          0.109375,
          0.109375,
          0.1093750149011612,
          0.125,
          0.171875,
          0.1718750149011612,
          0.203125,
          0.21875,
          0.234375,
          0.25,
          0.296875,
          0.2968750149011612,
          0.328125,
          0.34375,
          0.359375,
          0.375,
          0.421875,
          0.4218750149011612,
          0.453125,
          0.46875,
          0.484375,
          0.484375,
          0.4843750149011612,
          0.5,
          0.578125,
          0.59375,
          0.609375,
          0.625,
          0.65625,
          0.6562500149011612,
          0.703125,
          0.703125,
          0.7031250149011612,
          0.71875,
          0.734375,
          0.75,
          0.828125,
          0.828125,
          0.8281250149011612,
          0.84375,
          0.859375,
          0.875,
          0.90625,
          0.9062500149011612,
          0.953125,
          0.953125,
          0.9531250149011612,
          0.96875,
          0.984375
         ],
         "xaxis": "x",
         "y": [
          0.3899,
          0.5755,
          0.5755,
          0.6877,
          0.709,
          0.725,
          0.725,
          0.725,
          0.7317,
          0.7624,
          0.7624,
          0.7717,
          0.7837,
          0.7957,
          0.7997,
          0.8144,
          0.8144,
          0.8237,
          0.825,
          0.8224,
          0.8197,
          0.821,
          0.821,
          0.8278,
          0.8331,
          0.8372,
          0.8372,
          0.8372,
          0.8318,
          0.8264,
          0.8277,
          0.8291,
          0.8304,
          0.8117,
          0.8117,
          0.8064,
          0.8064,
          0.8064,
          0.7983,
          0.7917,
          0.7877,
          0.7863,
          0.7863,
          0.7863,
          0.781,
          0.7716,
          0.7583,
          0.7329,
          0.7329,
          0.6782,
          0.6782,
          0.6782,
          0.6489,
          0.6221
         ],
         "yaxis": "y"
        },
        {
         "hovertemplate": "variable=AUC<br>probability_threshold=%{x}<br>value=%{y}<extra></extra>",
         "legendgroup": "AUC",
         "line": {
          "color": "#EF553B",
          "dash": "solid"
         },
         "marker": {
          "symbol": "circle"
         },
         "mode": "lines",
         "name": "AUC",
         "orientation": "v",
         "showlegend": true,
         "type": "scatter",
         "x": [
          0,
          0.03125,
          0.031250014901161194,
          0.078125,
          0.09375,
          0.109375,
          0.109375,
          0.1093750149011612,
          0.125,
          0.171875,
          0.1718750149011612,
          0.203125,
          0.21875,
          0.234375,
          0.25,
          0.296875,
          0.2968750149011612,
          0.328125,
          0.34375,
          0.359375,
          0.375,
          0.421875,
          0.4218750149011612,
          0.453125,
          0.46875,
          0.484375,
          0.484375,
          0.4843750149011612,
          0.5,
          0.578125,
          0.59375,
          0.609375,
          0.625,
          0.65625,
          0.6562500149011612,
          0.703125,
          0.703125,
          0.7031250149011612,
          0.71875,
          0.734375,
          0.75,
          0.828125,
          0.828125,
          0.8281250149011612,
          0.84375,
          0.859375,
          0.875,
          0.90625,
          0.9062500149011612,
          0.953125,
          0.953125,
          0.9531250149011612,
          0.96875,
          0.984375
         ],
         "xaxis": "x",
         "y": [
          0.8977,
          0.8977,
          0.8977,
          0.8977,
          0.8977,
          0.8977,
          0.8977,
          0.8977,
          0.8977,
          0.8977,
          0.8977,
          0.8977,
          0.8977,
          0.8977,
          0.8977,
          0.8977,
          0.8977,
          0.8977,
          0.8977,
          0.8977,
          0.8977,
          0.8977,
          0.8977,
          0.8977,
          0.8977,
          0.8977,
          0.8977,
          0.8977,
          0.8977,
          0.8977,
          0.8977,
          0.8977,
          0.8977,
          0.8977,
          0.8977,
          0.8977,
          0.8977,
          0.8977,
          0.8977,
          0.8977,
          0.8977,
          0.8977,
          0.8977,
          0.8977,
          0.8977,
          0.8977,
          0.8977,
          0.8977,
          0.8977,
          0.8977,
          0.8977,
          0.8977,
          0.8977,
          0.8977
         ],
         "yaxis": "y"
        },
        {
         "hovertemplate": "variable=Recall<br>probability_threshold=%{x}<br>value=%{y}<extra></extra>",
         "legendgroup": "Recall",
         "line": {
          "color": "#00cc96",
          "dash": "solid"
         },
         "marker": {
          "symbol": "circle"
         },
         "mode": "lines",
         "name": "Recall",
         "orientation": "v",
         "showlegend": true,
         "type": "scatter",
         "x": [
          0,
          0.03125,
          0.031250014901161194,
          0.078125,
          0.09375,
          0.109375,
          0.109375,
          0.1093750149011612,
          0.125,
          0.171875,
          0.1718750149011612,
          0.203125,
          0.21875,
          0.234375,
          0.25,
          0.296875,
          0.2968750149011612,
          0.328125,
          0.34375,
          0.359375,
          0.375,
          0.421875,
          0.4218750149011612,
          0.453125,
          0.46875,
          0.484375,
          0.484375,
          0.4843750149011612,
          0.5,
          0.578125,
          0.59375,
          0.609375,
          0.625,
          0.65625,
          0.6562500149011612,
          0.703125,
          0.703125,
          0.7031250149011612,
          0.71875,
          0.734375,
          0.75,
          0.828125,
          0.828125,
          0.8281250149011612,
          0.84375,
          0.859375,
          0.875,
          0.90625,
          0.9062500149011612,
          0.953125,
          0.953125,
          0.9531250149011612,
          0.96875,
          0.984375
         ],
         "xaxis": "x",
         "y": [
          1,
          0.9762,
          0.9762,
          0.9555,
          0.9521,
          0.9486,
          0.9486,
          0.9486,
          0.9486,
          0.9383,
          0.9383,
          0.921,
          0.921,
          0.9176,
          0.9108,
          0.88,
          0.88,
          0.8697,
          0.8593,
          0.8421,
          0.8284,
          0.8046,
          0.8046,
          0.7945,
          0.7945,
          0.791,
          0.791,
          0.791,
          0.7739,
          0.7292,
          0.7224,
          0.7156,
          0.7087,
          0.6571,
          0.6571,
          0.6194,
          0.6194,
          0.6194,
          0.5953,
          0.5749,
          0.5578,
          0.5069,
          0.5069,
          0.5069,
          0.4897,
          0.4622,
          0.4248,
          0.3561,
          0.3561,
          0.1915,
          0.1915,
          0.1915,
          0.1162,
          0.0444
         ],
         "yaxis": "y"
        },
        {
         "hovertemplate": "variable=Prec.<br>probability_threshold=%{x}<br>value=%{y}<extra></extra>",
         "legendgroup": "Prec.",
         "line": {
          "color": "#ab63fa",
          "dash": "solid"
         },
         "marker": {
          "symbol": "circle"
         },
         "mode": "lines",
         "name": "Prec.",
         "orientation": "v",
         "showlegend": true,
         "type": "scatter",
         "x": [
          0,
          0.03125,
          0.031250014901161194,
          0.078125,
          0.09375,
          0.109375,
          0.109375,
          0.1093750149011612,
          0.125,
          0.171875,
          0.1718750149011612,
          0.203125,
          0.21875,
          0.234375,
          0.25,
          0.296875,
          0.2968750149011612,
          0.328125,
          0.34375,
          0.359375,
          0.375,
          0.421875,
          0.4218750149011612,
          0.453125,
          0.46875,
          0.484375,
          0.484375,
          0.4843750149011612,
          0.5,
          0.578125,
          0.59375,
          0.609375,
          0.625,
          0.65625,
          0.6562500149011612,
          0.703125,
          0.703125,
          0.7031250149011612,
          0.71875,
          0.734375,
          0.75,
          0.828125,
          0.828125,
          0.8281250149011612,
          0.84375,
          0.859375,
          0.875,
          0.90625,
          0.9062500149011612,
          0.953125,
          0.953125,
          0.9531250149011612,
          0.96875,
          0.984375
         ],
         "xaxis": "x",
         "y": [
          0.3899,
          0.4811,
          0.4811,
          0.5612,
          0.5793,
          0.5947,
          0.5947,
          0.5947,
          0.6019,
          0.6362,
          0.6362,
          0.6499,
          0.6631,
          0.6791,
          0.6856,
          0.7158,
          0.7158,
          0.7333,
          0.7398,
          0.742,
          0.7433,
          0.7568,
          0.7568,
          0.7755,
          0.7862,
          0.7974,
          0.7974,
          0.7974,
          0.7965,
          0.8147,
          0.821,
          0.8289,
          0.8378,
          0.832,
          0.832,
          0.8494,
          0.8494,
          0.8494,
          0.8485,
          0.8505,
          0.8538,
          0.9175,
          0.9175,
          0.9175,
          0.9167,
          0.915,
          0.9181,
          0.911,
          0.911,
          0.94,
          0.94,
          0.94,
          0.8942,
          0.675
         ],
         "yaxis": "y"
        },
        {
         "hovertemplate": "variable=F1<br>probability_threshold=%{x}<br>value=%{y}<extra></extra>",
         "legendgroup": "F1",
         "line": {
          "color": "#FFA15A",
          "dash": "solid"
         },
         "marker": {
          "symbol": "circle"
         },
         "mode": "lines",
         "name": "F1",
         "orientation": "v",
         "showlegend": true,
         "type": "scatter",
         "x": [
          0,
          0.03125,
          0.031250014901161194,
          0.078125,
          0.09375,
          0.109375,
          0.109375,
          0.1093750149011612,
          0.125,
          0.171875,
          0.1718750149011612,
          0.203125,
          0.21875,
          0.234375,
          0.25,
          0.296875,
          0.2968750149011612,
          0.328125,
          0.34375,
          0.359375,
          0.375,
          0.421875,
          0.4218750149011612,
          0.453125,
          0.46875,
          0.484375,
          0.484375,
          0.4843750149011612,
          0.5,
          0.578125,
          0.59375,
          0.609375,
          0.625,
          0.65625,
          0.6562500149011612,
          0.703125,
          0.703125,
          0.7031250149011612,
          0.71875,
          0.734375,
          0.75,
          0.828125,
          0.828125,
          0.8281250149011612,
          0.84375,
          0.859375,
          0.875,
          0.90625,
          0.9062500149011612,
          0.953125,
          0.953125,
          0.9531250149011612,
          0.96875,
          0.984375
         ],
         "xaxis": "x",
         "y": [
          0.561,
          0.6436,
          0.6436,
          0.7062,
          0.7194,
          0.73,
          0.73,
          0.73,
          0.7352,
          0.7564,
          0.7564,
          0.7601,
          0.7694,
          0.7788,
          0.7808,
          0.7873,
          0.7873,
          0.7937,
          0.7923,
          0.7867,
          0.7811,
          0.7773,
          0.7773,
          0.7819,
          0.7873,
          0.7908,
          0.7908,
          0.7908,
          0.7813,
          0.7649,
          0.7646,
          0.7643,
          0.7645,
          0.7297,
          0.7297,
          0.7115,
          0.7115,
          0.7115,
          0.6934,
          0.6779,
          0.6677,
          0.6421,
          0.6421,
          0.6421,
          0.6267,
          0.6027,
          0.5703,
          0.5004,
          0.5004,
          0.3099,
          0.3099,
          0.3099,
          0.2006,
          0.0814
         ],
         "yaxis": "y"
        },
        {
         "hovertemplate": "variable=Kappa<br>probability_threshold=%{x}<br>value=%{y}<extra></extra>",
         "legendgroup": "Kappa",
         "line": {
          "color": "#19d3f3",
          "dash": "solid"
         },
         "marker": {
          "symbol": "circle"
         },
         "mode": "lines",
         "name": "Kappa",
         "orientation": "v",
         "showlegend": true,
         "type": "scatter",
         "x": [
          0,
          0.03125,
          0.031250014901161194,
          0.078125,
          0.09375,
          0.109375,
          0.109375,
          0.1093750149011612,
          0.125,
          0.171875,
          0.1718750149011612,
          0.203125,
          0.21875,
          0.234375,
          0.25,
          0.296875,
          0.2968750149011612,
          0.328125,
          0.34375,
          0.359375,
          0.375,
          0.421875,
          0.4218750149011612,
          0.453125,
          0.46875,
          0.484375,
          0.484375,
          0.4843750149011612,
          0.5,
          0.578125,
          0.59375,
          0.609375,
          0.625,
          0.65625,
          0.6562500149011612,
          0.703125,
          0.703125,
          0.7031250149011612,
          0.71875,
          0.734375,
          0.75,
          0.828125,
          0.828125,
          0.8281250149011612,
          0.84375,
          0.859375,
          0.875,
          0.90625,
          0.9062500149011612,
          0.953125,
          0.953125,
          0.9531250149011612,
          0.96875,
          0.984375
         ],
         "xaxis": "x",
         "y": [
          0,
          0.2508,
          0.2508,
          0.4197,
          0.4536,
          0.4796,
          0.4796,
          0.4796,
          0.4912,
          0.5422,
          0.5422,
          0.5557,
          0.5765,
          0.5976,
          0.6037,
          0.6261,
          0.6261,
          0.642,
          0.6429,
          0.6358,
          0.6288,
          0.6282,
          0.6282,
          0.64,
          0.6503,
          0.6578,
          0.6578,
          0.6578,
          0.6451,
          0.6285,
          0.6301,
          0.6318,
          0.6338,
          0.5888,
          0.5888,
          0.5719,
          0.5719,
          0.5719,
          0.5513,
          0.5343,
          0.5233,
          0.5106,
          0.5106,
          0.5106,
          0.4956,
          0.4708,
          0.4364,
          0.3679,
          0.3679,
          0.2093,
          0.2093,
          0.2093,
          0.124,
          0.0426
         ],
         "yaxis": "y"
        },
        {
         "hovertemplate": "variable=MCC<br>probability_threshold=%{x}<br>value=%{y}<extra></extra>",
         "legendgroup": "MCC",
         "line": {
          "color": "#FF6692",
          "dash": "solid"
         },
         "marker": {
          "symbol": "circle"
         },
         "mode": "lines",
         "name": "MCC",
         "orientation": "v",
         "showlegend": true,
         "type": "scatter",
         "x": [
          0,
          0.03125,
          0.031250014901161194,
          0.078125,
          0.09375,
          0.109375,
          0.109375,
          0.1093750149011612,
          0.125,
          0.171875,
          0.1718750149011612,
          0.203125,
          0.21875,
          0.234375,
          0.25,
          0.296875,
          0.2968750149011612,
          0.328125,
          0.34375,
          0.359375,
          0.375,
          0.421875,
          0.4218750149011612,
          0.453125,
          0.46875,
          0.484375,
          0.484375,
          0.4843750149011612,
          0.5,
          0.578125,
          0.59375,
          0.609375,
          0.625,
          0.65625,
          0.6562500149011612,
          0.703125,
          0.703125,
          0.7031250149011612,
          0.71875,
          0.734375,
          0.75,
          0.828125,
          0.828125,
          0.8281250149011612,
          0.84375,
          0.859375,
          0.875,
          0.90625,
          0.9062500149011612,
          0.953125,
          0.953125,
          0.9531250149011612,
          0.96875,
          0.984375
         ],
         "xaxis": "x",
         "y": [
          0,
          0.3567,
          0.3567,
          0.4895,
          0.5162,
          0.5362,
          0.5362,
          0.5362,
          0.5458,
          0.5842,
          0.5842,
          0.5898,
          0.6071,
          0.6239,
          0.627,
          0.6401,
          0.6401,
          0.6523,
          0.6524,
          0.6426,
          0.6349,
          0.6325,
          0.6325,
          0.6437,
          0.6539,
          0.6617,
          0.6617,
          0.6617,
          0.6494,
          0.6352,
          0.6368,
          0.6394,
          0.6421,
          0.6021,
          0.6021,
          0.5915,
          0.5915,
          0.5915,
          0.5746,
          0.5613,
          0.5528,
          0.5615,
          0.5615,
          0.5615,
          0.5494,
          0.5292,
          0.5029,
          0.4463,
          0.4463,
          0.3219,
          0.3219,
          0.3219,
          0.23,
          0.1102
         ],
         "yaxis": "y"
        }
       ],
       "layout": {
        "legend": {
         "title": {
          "text": "variable"
         },
         "tracegroupgap": 0
        },
        "template": {
         "data": {
          "bar": [
           {
            "error_x": {
             "color": "#2a3f5f"
            },
            "error_y": {
             "color": "#2a3f5f"
            },
            "marker": {
             "line": {
              "color": "#E5ECF6",
              "width": 0.5
             },
             "pattern": {
              "fillmode": "overlay",
              "size": 10,
              "solidity": 0.2
             }
            },
            "type": "bar"
           }
          ],
          "barpolar": [
           {
            "marker": {
             "line": {
              "color": "#E5ECF6",
              "width": 0.5
             },
             "pattern": {
              "fillmode": "overlay",
              "size": 10,
              "solidity": 0.2
             }
            },
            "type": "barpolar"
           }
          ],
          "carpet": [
           {
            "aaxis": {
             "endlinecolor": "#2a3f5f",
             "gridcolor": "white",
             "linecolor": "white",
             "minorgridcolor": "white",
             "startlinecolor": "#2a3f5f"
            },
            "baxis": {
             "endlinecolor": "#2a3f5f",
             "gridcolor": "white",
             "linecolor": "white",
             "minorgridcolor": "white",
             "startlinecolor": "#2a3f5f"
            },
            "type": "carpet"
           }
          ],
          "choropleth": [
           {
            "colorbar": {
             "outlinewidth": 0,
             "ticks": ""
            },
            "type": "choropleth"
           }
          ],
          "contour": [
           {
            "colorbar": {
             "outlinewidth": 0,
             "ticks": ""
            },
            "colorscale": [
             [
              0,
              "#0d0887"
             ],
             [
              0.1111111111111111,
              "#46039f"
             ],
             [
              0.2222222222222222,
              "#7201a8"
             ],
             [
              0.3333333333333333,
              "#9c179e"
             ],
             [
              0.4444444444444444,
              "#bd3786"
             ],
             [
              0.5555555555555556,
              "#d8576b"
             ],
             [
              0.6666666666666666,
              "#ed7953"
             ],
             [
              0.7777777777777778,
              "#fb9f3a"
             ],
             [
              0.8888888888888888,
              "#fdca26"
             ],
             [
              1,
              "#f0f921"
             ]
            ],
            "type": "contour"
           }
          ],
          "contourcarpet": [
           {
            "colorbar": {
             "outlinewidth": 0,
             "ticks": ""
            },
            "type": "contourcarpet"
           }
          ],
          "heatmap": [
           {
            "colorbar": {
             "outlinewidth": 0,
             "ticks": ""
            },
            "colorscale": [
             [
              0,
              "#0d0887"
             ],
             [
              0.1111111111111111,
              "#46039f"
             ],
             [
              0.2222222222222222,
              "#7201a8"
             ],
             [
              0.3333333333333333,
              "#9c179e"
             ],
             [
              0.4444444444444444,
              "#bd3786"
             ],
             [
              0.5555555555555556,
              "#d8576b"
             ],
             [
              0.6666666666666666,
              "#ed7953"
             ],
             [
              0.7777777777777778,
              "#fb9f3a"
             ],
             [
              0.8888888888888888,
              "#fdca26"
             ],
             [
              1,
              "#f0f921"
             ]
            ],
            "type": "heatmap"
           }
          ],
          "heatmapgl": [
           {
            "colorbar": {
             "outlinewidth": 0,
             "ticks": ""
            },
            "colorscale": [
             [
              0,
              "#0d0887"
             ],
             [
              0.1111111111111111,
              "#46039f"
             ],
             [
              0.2222222222222222,
              "#7201a8"
             ],
             [
              0.3333333333333333,
              "#9c179e"
             ],
             [
              0.4444444444444444,
              "#bd3786"
             ],
             [
              0.5555555555555556,
              "#d8576b"
             ],
             [
              0.6666666666666666,
              "#ed7953"
             ],
             [
              0.7777777777777778,
              "#fb9f3a"
             ],
             [
              0.8888888888888888,
              "#fdca26"
             ],
             [
              1,
              "#f0f921"
             ]
            ],
            "type": "heatmapgl"
           }
          ],
          "histogram": [
           {
            "marker": {
             "pattern": {
              "fillmode": "overlay",
              "size": 10,
              "solidity": 0.2
             }
            },
            "type": "histogram"
           }
          ],
          "histogram2d": [
           {
            "colorbar": {
             "outlinewidth": 0,
             "ticks": ""
            },
            "colorscale": [
             [
              0,
              "#0d0887"
             ],
             [
              0.1111111111111111,
              "#46039f"
             ],
             [
              0.2222222222222222,
              "#7201a8"
             ],
             [
              0.3333333333333333,
              "#9c179e"
             ],
             [
              0.4444444444444444,
              "#bd3786"
             ],
             [
              0.5555555555555556,
              "#d8576b"
             ],
             [
              0.6666666666666666,
              "#ed7953"
             ],
             [
              0.7777777777777778,
              "#fb9f3a"
             ],
             [
              0.8888888888888888,
              "#fdca26"
             ],
             [
              1,
              "#f0f921"
             ]
            ],
            "type": "histogram2d"
           }
          ],
          "histogram2dcontour": [
           {
            "colorbar": {
             "outlinewidth": 0,
             "ticks": ""
            },
            "colorscale": [
             [
              0,
              "#0d0887"
             ],
             [
              0.1111111111111111,
              "#46039f"
             ],
             [
              0.2222222222222222,
              "#7201a8"
             ],
             [
              0.3333333333333333,
              "#9c179e"
             ],
             [
              0.4444444444444444,
              "#bd3786"
             ],
             [
              0.5555555555555556,
              "#d8576b"
             ],
             [
              0.6666666666666666,
              "#ed7953"
             ],
             [
              0.7777777777777778,
              "#fb9f3a"
             ],
             [
              0.8888888888888888,
              "#fdca26"
             ],
             [
              1,
              "#f0f921"
             ]
            ],
            "type": "histogram2dcontour"
           }
          ],
          "mesh3d": [
           {
            "colorbar": {
             "outlinewidth": 0,
             "ticks": ""
            },
            "type": "mesh3d"
           }
          ],
          "parcoords": [
           {
            "line": {
             "colorbar": {
              "outlinewidth": 0,
              "ticks": ""
             }
            },
            "type": "parcoords"
           }
          ],
          "pie": [
           {
            "automargin": true,
            "type": "pie"
           }
          ],
          "scatter": [
           {
            "fillpattern": {
             "fillmode": "overlay",
             "size": 10,
             "solidity": 0.2
            },
            "type": "scatter"
           }
          ],
          "scatter3d": [
           {
            "line": {
             "colorbar": {
              "outlinewidth": 0,
              "ticks": ""
             }
            },
            "marker": {
             "colorbar": {
              "outlinewidth": 0,
              "ticks": ""
             }
            },
            "type": "scatter3d"
           }
          ],
          "scattercarpet": [
           {
            "marker": {
             "colorbar": {
              "outlinewidth": 0,
              "ticks": ""
             }
            },
            "type": "scattercarpet"
           }
          ],
          "scattergeo": [
           {
            "marker": {
             "colorbar": {
              "outlinewidth": 0,
              "ticks": ""
             }
            },
            "type": "scattergeo"
           }
          ],
          "scattergl": [
           {
            "marker": {
             "colorbar": {
              "outlinewidth": 0,
              "ticks": ""
             }
            },
            "type": "scattergl"
           }
          ],
          "scattermapbox": [
           {
            "marker": {
             "colorbar": {
              "outlinewidth": 0,
              "ticks": ""
             }
            },
            "type": "scattermapbox"
           }
          ],
          "scatterpolar": [
           {
            "marker": {
             "colorbar": {
              "outlinewidth": 0,
              "ticks": ""
             }
            },
            "type": "scatterpolar"
           }
          ],
          "scatterpolargl": [
           {
            "marker": {
             "colorbar": {
              "outlinewidth": 0,
              "ticks": ""
             }
            },
            "type": "scatterpolargl"
           }
          ],
          "scatterternary": [
           {
            "marker": {
             "colorbar": {
              "outlinewidth": 0,
              "ticks": ""
             }
            },
            "type": "scatterternary"
           }
          ],
          "surface": [
           {
            "colorbar": {
             "outlinewidth": 0,
             "ticks": ""
            },
            "colorscale": [
             [
              0,
              "#0d0887"
             ],
             [
              0.1111111111111111,
              "#46039f"
             ],
             [
              0.2222222222222222,
              "#7201a8"
             ],
             [
              0.3333333333333333,
              "#9c179e"
             ],
             [
              0.4444444444444444,
              "#bd3786"
             ],
             [
              0.5555555555555556,
              "#d8576b"
             ],
             [
              0.6666666666666666,
              "#ed7953"
             ],
             [
              0.7777777777777778,
              "#fb9f3a"
             ],
             [
              0.8888888888888888,
              "#fdca26"
             ],
             [
              1,
              "#f0f921"
             ]
            ],
            "type": "surface"
           }
          ],
          "table": [
           {
            "cells": {
             "fill": {
              "color": "#EBF0F8"
             },
             "line": {
              "color": "white"
             }
            },
            "header": {
             "fill": {
              "color": "#C8D4E3"
             },
             "line": {
              "color": "white"
             }
            },
            "type": "table"
           }
          ]
         },
         "layout": {
          "annotationdefaults": {
           "arrowcolor": "#2a3f5f",
           "arrowhead": 0,
           "arrowwidth": 1
          },
          "autotypenumbers": "strict",
          "coloraxis": {
           "colorbar": {
            "outlinewidth": 0,
            "ticks": ""
           }
          },
          "colorscale": {
           "diverging": [
            [
             0,
             "#8e0152"
            ],
            [
             0.1,
             "#c51b7d"
            ],
            [
             0.2,
             "#de77ae"
            ],
            [
             0.3,
             "#f1b6da"
            ],
            [
             0.4,
             "#fde0ef"
            ],
            [
             0.5,
             "#f7f7f7"
            ],
            [
             0.6,
             "#e6f5d0"
            ],
            [
             0.7,
             "#b8e186"
            ],
            [
             0.8,
             "#7fbc41"
            ],
            [
             0.9,
             "#4d9221"
            ],
            [
             1,
             "#276419"
            ]
           ],
           "sequential": [
            [
             0,
             "#0d0887"
            ],
            [
             0.1111111111111111,
             "#46039f"
            ],
            [
             0.2222222222222222,
             "#7201a8"
            ],
            [
             0.3333333333333333,
             "#9c179e"
            ],
            [
             0.4444444444444444,
             "#bd3786"
            ],
            [
             0.5555555555555556,
             "#d8576b"
            ],
            [
             0.6666666666666666,
             "#ed7953"
            ],
            [
             0.7777777777777778,
             "#fb9f3a"
            ],
            [
             0.8888888888888888,
             "#fdca26"
            ],
            [
             1,
             "#f0f921"
            ]
           ],
           "sequentialminus": [
            [
             0,
             "#0d0887"
            ],
            [
             0.1111111111111111,
             "#46039f"
            ],
            [
             0.2222222222222222,
             "#7201a8"
            ],
            [
             0.3333333333333333,
             "#9c179e"
            ],
            [
             0.4444444444444444,
             "#bd3786"
            ],
            [
             0.5555555555555556,
             "#d8576b"
            ],
            [
             0.6666666666666666,
             "#ed7953"
            ],
            [
             0.7777777777777778,
             "#fb9f3a"
            ],
            [
             0.8888888888888888,
             "#fdca26"
            ],
            [
             1,
             "#f0f921"
            ]
           ]
          },
          "colorway": [
           "#636efa",
           "#EF553B",
           "#00cc96",
           "#ab63fa",
           "#FFA15A",
           "#19d3f3",
           "#FF6692",
           "#B6E880",
           "#FF97FF",
           "#FECB52"
          ],
          "font": {
           "color": "#2a3f5f"
          },
          "geo": {
           "bgcolor": "white",
           "lakecolor": "white",
           "landcolor": "#E5ECF6",
           "showlakes": true,
           "showland": true,
           "subunitcolor": "white"
          },
          "hoverlabel": {
           "align": "left"
          },
          "hovermode": "closest",
          "mapbox": {
           "style": "light"
          },
          "paper_bgcolor": "white",
          "plot_bgcolor": "#E5ECF6",
          "polar": {
           "angularaxis": {
            "gridcolor": "white",
            "linecolor": "white",
            "ticks": ""
           },
           "bgcolor": "#E5ECF6",
           "radialaxis": {
            "gridcolor": "white",
            "linecolor": "white",
            "ticks": ""
           }
          },
          "scene": {
           "xaxis": {
            "backgroundcolor": "#E5ECF6",
            "gridcolor": "white",
            "gridwidth": 2,
            "linecolor": "white",
            "showbackground": true,
            "ticks": "",
            "zerolinecolor": "white"
           },
           "yaxis": {
            "backgroundcolor": "#E5ECF6",
            "gridcolor": "white",
            "gridwidth": 2,
            "linecolor": "white",
            "showbackground": true,
            "ticks": "",
            "zerolinecolor": "white"
           },
           "zaxis": {
            "backgroundcolor": "#E5ECF6",
            "gridcolor": "white",
            "gridwidth": 2,
            "linecolor": "white",
            "showbackground": true,
            "ticks": "",
            "zerolinecolor": "white"
           }
          },
          "shapedefaults": {
           "line": {
            "color": "#2a3f5f"
           }
          },
          "ternary": {
           "aaxis": {
            "gridcolor": "white",
            "linecolor": "white",
            "ticks": ""
           },
           "baxis": {
            "gridcolor": "white",
            "linecolor": "white",
            "ticks": ""
           },
           "bgcolor": "#E5ECF6",
           "caxis": {
            "gridcolor": "white",
            "linecolor": "white",
            "ticks": ""
           }
          },
          "title": {
           "x": 0.05
          },
          "xaxis": {
           "automargin": true,
           "gridcolor": "white",
           "linecolor": "white",
           "ticks": "",
           "title": {
            "standoff": 15
           },
           "zerolinecolor": "white",
           "zerolinewidth": 2
          },
          "yaxis": {
           "automargin": true,
           "gridcolor": "white",
           "linecolor": "white",
           "ticks": "",
           "title": {
            "standoff": 15
           },
           "zerolinecolor": "white",
           "zerolinewidth": 2
          }
         }
        },
        "title": {
         "text": "Linear Discriminant Analysis Probability Threshold Optimization (default = 0.5)"
        },
        "xaxis": {
         "anchor": "y",
         "domain": [
          0,
          1
         ],
         "title": {
          "text": "probability_threshold"
         }
        },
        "yaxis": {
         "anchor": "x",
         "domain": [
          0,
          1
         ],
         "title": {
          "text": "value"
         }
        }
       }
      }
     },
     "metadata": {},
     "output_type": "display_data"
    }
   ],
   "source": [
    "from pycaret.classification import *\n",
    "\n",
    "# راه‌اندازی محیط PyCaret\n",
    "clf = setup(data=juice, target='Purchase', categorical_features=['Store7'], verbose=False)\n",
    "\n",
    "# فرض می‌کنیم lda_model قبلاً تعریف شده\n",
    "# بهینه‌سازی آستانه با متریک Accuracy\n",
    "optimized_model = optimize_threshold(lda_model, optimize='Accuracy')\n"
   ]
  },
  {
   "cell_type": "code",
   "execution_count": 15,
   "id": "39cd4640-413b-4e60-ba55-974d499b0c25",
   "metadata": {},
   "outputs": [
    {
     "data": {
      "text/html": [],
      "text/plain": [
       "<IPython.core.display.HTML object>"
      ]
     },
     "metadata": {},
     "output_type": "display_data"
    },
    {
     "data": {
      "image/png": "[encoded data removed]",
      "text/plain": [
       "<Figure size 800x550 with 1 Axes>"
      ]
     },
     "metadata": {},
     "output_type": "display_data"
    }
   ],
   "source": [
    "plot_model(estimator=blend,plot='confusion_matrix')"
   ]
  },
  {
   "cell_type": "code",
   "execution_count": 16,
   "id": "6ec68012-9325-4895-b5d5-6da35707048a",
   "metadata": {},
   "outputs": [
    {
     "data": {
      "text/html": [
       "<style type=\"text/css\">\n",
       "</style>\n",
       "<table id=\"T_6f564\">\n",
       "  <thead>\n",
       "    <tr>\n",
       "      <th class=\"blank level0\" >&nbsp;</th>\n",
       "      <th id=\"T_6f564_level0_col0\" class=\"col_heading level0 col0\" >Model</th>\n",
       "      <th id=\"T_6f564_level0_col1\" class=\"col_heading level0 col1\" >Accuracy</th>\n",
       "      <th id=\"T_6f564_level0_col2\" class=\"col_heading level0 col2\" >AUC</th>\n",
       "      <th id=\"T_6f564_level0_col3\" class=\"col_heading level0 col3\" >Recall</th>\n",
       "      <th id=\"T_6f564_level0_col4\" class=\"col_heading level0 col4\" >Prec.</th>\n",
       "      <th id=\"T_6f564_level0_col5\" class=\"col_heading level0 col5\" >F1</th>\n",
       "      <th id=\"T_6f564_level0_col6\" class=\"col_heading level0 col6\" >Kappa</th>\n",
       "      <th id=\"T_6f564_level0_col7\" class=\"col_heading level0 col7\" >MCC</th>\n",
       "    </tr>\n",
       "  </thead>\n",
       "  <tbody>\n",
       "    <tr>\n",
       "      <th id=\"T_6f564_level0_row0\" class=\"row_heading level0 row0\" >0</th>\n",
       "      <td id=\"T_6f564_row0_col0\" class=\"data row0 col0\" >Voting Classifier</td>\n",
       "      <td id=\"T_6f564_row0_col1\" class=\"data row0 col1\" >0.8255</td>\n",
       "      <td id=\"T_6f564_row0_col2\" class=\"data row0 col2\" >0.8209</td>\n",
       "      <td id=\"T_6f564_row0_col3\" class=\"data row0 col3\" >0.8000</td>\n",
       "      <td id=\"T_6f564_row0_col4\" class=\"data row0 col4\" >0.7634</td>\n",
       "      <td id=\"T_6f564_row0_col5\" class=\"data row0 col5\" >0.7812</td>\n",
       "      <td id=\"T_6f564_row0_col6\" class=\"data row0 col6\" >0.6363</td>\n",
       "      <td id=\"T_6f564_row0_col7\" class=\"data row0 col7\" >0.6368</td>\n",
       "    </tr>\n",
       "  </tbody>\n",
       "</table>\n"
      ],
      "text/plain": [
       "<pandas.io.formats.style.Styler at 0x1b3b16b1bb0>"
      ]
     },
     "metadata": {},
     "output_type": "display_data"
    }
   ],
   "source": [
    "pred=predict_model(blend)"
   ]
  },
  {
   "cell_type": "code",
   "execution_count": 17,
   "id": "99638839-db84-4601-abc9-fb46bc10e499",
   "metadata": {},
   "outputs": [
    {
     "data": {
      "application/vnd.jupyter.widget-view+json": {
       "model_id": "b0e4a56fed39407ca59cb256d65d1d4a",
       "version_major": 2,
       "version_minor": 0
      },
      "text/plain": [
       "interactive(children=(ToggleButtons(description='Plot Type:', icons=('',), options=(('Pipeline Plot', 'pipelin…"
      ]
     },
     "metadata": {},
     "output_type": "display_data"
    }
   ],
   "source": [
    "evaluate_model(lda_model)"
   ]
  },
  {
   "cell_type": "code",
   "execution_count": null,
   "id": "4797603b-4810-4774-90c2-889dde455450",
   "metadata": {},
   "outputs": [],
   "source": []
  }
 ],
 "metadata": {
  "kernelspec": {
   "display_name": "ai",
   "language": "python",
   "name": "python3"
  },
  "language_info": {
   "codemirror_mode": {
    "name": "ipython",
    "version": 3
   },
   "file_extension": ".py",
   "mimetype": "text/x-python",
   "name": "python",
   "nbconvert_exporter": "python",
   "pygments_lexer": "ipython3",
   "version": "3.9.21"
  }
 },
 "nbformat": 4,
 "nbformat_minor": 5
}
